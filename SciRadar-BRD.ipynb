{
 "cells": [
  {
   "cell_type": "markdown",
   "metadata": {
    "collapsed": true
   },
   "source": [
    "# Science Radar\n",
    "Aplicación para la detección automática de frentes de investigación."
   ]
  },
  {
   "cell_type": "code",
   "execution_count": 2,
   "metadata": {},
   "outputs": [
    {
     "name": "stderr",
     "output_type": "stream",
     "text": [
      "/usr/lib/python3.6/site-packages/tqdm/autonotebook/__init__.py:14: TqdmExperimentalWarning: Using `tqdm.autonotebook.tqdm` in notebook mode. Use `tqdm.tqdm` instead to force console mode (e.g. in jupyter console)\n",
      "  \" (e.g. in jupyter console)\", TqdmExperimentalWarning)\n"
     ]
    }
   ],
   "source": [
    "%colors lightbg\n",
    "%matplotlib inline\n",
    "import pandas\n",
    "from commands.network_generation import *\n",
    "from commands.network_analysis import *\n",
    "from commands.europe_pmc_harvester import *\n",
    "from commands.burst_detection import *\n",
    "from utils.fulltext_downloader import download_fulltext\n",
    "from utils.bioportal_api import annotate_text\n",
    "from utils import mongodb_access\n",
    "from joblib import delayed, Parallel\n",
    "import logging\n",
    "import click_log\n",
    "import matplotlib.pyplot as plt"
   ]
  },
  {
   "cell_type": "markdown",
   "metadata": {},
   "source": [
    "## Recolección de datos"
   ]
  },
  {
   "cell_type": "markdown",
   "metadata": {},
   "source": [
    "### Parámetros para la recolección de datos"
   ]
  },
  {
   "cell_type": "code",
   "execution_count": 3,
   "metadata": {},
   "outputs": [],
   "source": [
    "dataset_name = 'necroptosis'\n",
    "keywords = ['Neutrophil and necroptosis']\n",
    "pmids = []\n",
    "include_citing_papers = True\n",
    "output_path = 'data/sciradar'\n",
    "start_year = 2010\n",
    "end_year = 2018\n",
    "mongo_config = {\n",
    "    'database': 'publications',\n",
    "    'collection': 'necroptosis',\n",
    "    'host': 'mongodb',\n",
    "    'port': 27017\n",
    "}"
   ]
  },
  {
   "cell_type": "markdown",
   "metadata": {},
   "source": [
    "### Creación de directorio de salida"
   ]
  },
  {
   "cell_type": "code",
   "execution_count": 4,
   "metadata": {},
   "outputs": [],
   "source": [
    "output_path = output_path + '/' if not output_path.endswith('/') else output_path\n",
    "output_path += dataset_name + '/'\n",
    "if not os.path.exists(output_path):\n",
    "    os.makedirs(output_path)"
   ]
  },
  {
   "cell_type": "markdown",
   "metadata": {},
   "source": [
    "### Recolección de datos desde [EuropePMC](https://europepmc.org/)"
   ]
  },
  {
   "cell_type": "code",
   "execution_count": 4,
   "metadata": {},
   "outputs": [
    {
     "name": "stdout",
     "output_type": "stream",
     "text": [
      "Harvesting papers\n",
      "Harvest for \"Neutrophil and necroptosis\"\n",
      "       Harvested 304 of 304\n",
      "       Harvested 304 of 304\n",
      "Getting references for 304 \"Neutrophil and necroptosis\" papers\n"
     ]
    },
    {
     "data": {
      "application/vnd.jupyter.widget-view+json": {
       "model_id": "f47d6ac4e35046c69989a3953927dfeb",
       "version_major": 2,
       "version_minor": 0
      },
      "text/plain": [
       "HBox(children=(IntProgress(value=0, max=304), HTML(value='')))"
      ]
     },
     "metadata": {},
     "output_type": "display_data"
    },
    {
     "name": "stdout",
     "output_type": "stream",
     "text": [
      "\n",
      "Harvesting citations for 304 papers\n"
     ]
    },
    {
     "data": {
      "application/vnd.jupyter.widget-view+json": {
       "model_id": "3bdfad3e80be4cbe883a26c423752206",
       "version_major": 2,
       "version_minor": 0
      },
      "text/plain": [
       "HBox(children=(IntProgress(value=0, max=304), HTML(value='')))"
      ]
     },
     "metadata": {},
     "output_type": "display_data"
    },
    {
     "data": {
      "application/vnd.jupyter.widget-view+json": {
       "model_id": "6d2c797e9ebd45179c0057acdaeaa6d5",
       "version_major": 2,
       "version_minor": 0
      },
      "text/plain": [
       "HBox(children=(IntProgress(value=0, max=3), HTML(value='')))"
      ]
     },
     "metadata": {},
     "output_type": "display_data"
    },
    {
     "data": {
      "application/vnd.jupyter.widget-view+json": {
       "model_id": "a53f81ba8150465dabd8a2ff576bdc57",
       "version_major": 2,
       "version_minor": 0
      },
      "text/plain": [
       "HBox(children=(IntProgress(value=0, max=6), HTML(value='')))"
      ]
     },
     "metadata": {},
     "output_type": "display_data"
    },
    {
     "data": {
      "application/vnd.jupyter.widget-view+json": {
       "model_id": "9faea45876c94ae7ae999fee9461eba5",
       "version_major": 2,
       "version_minor": 0
      },
      "text/plain": [
       "HBox(children=(IntProgress(value=0, max=1), HTML(value='')))"
      ]
     },
     "metadata": {},
     "output_type": "display_data"
    },
    {
     "data": {
      "application/vnd.jupyter.widget-view+json": {
       "model_id": "005ffaae3f5c4d808c9b7bc686b6f33d",
       "version_major": 2,
       "version_minor": 0
      },
      "text/plain": [
       "HBox(children=(IntProgress(value=0, max=1), HTML(value='')))"
      ]
     },
     "metadata": {},
     "output_type": "display_data"
    },
    {
     "data": {
      "application/vnd.jupyter.widget-view+json": {
       "model_id": "52ddbfcfc93641d7873f98524f9d0386",
       "version_major": 2,
       "version_minor": 0
      },
      "text/plain": [
       "HBox(children=(IntProgress(value=0, max=1), HTML(value='')))"
      ]
     },
     "metadata": {},
     "output_type": "display_data"
    },
    {
     "data": {
      "application/vnd.jupyter.widget-view+json": {
       "model_id": "1bfccfa6adb74358a0fcd062cc25eff5",
       "version_major": 2,
       "version_minor": 0
      },
      "text/plain": [
       "HBox(children=(IntProgress(value=0, max=2), HTML(value='')))"
      ]
     },
     "metadata": {},
     "output_type": "display_data"
    },
    {
     "data": {
      "application/vnd.jupyter.widget-view+json": {
       "model_id": "fd948122b1a140f6933780c6e5810b81",
       "version_major": 2,
       "version_minor": 0
      },
      "text/plain": [
       "HBox(children=(IntProgress(value=0, max=32), HTML(value='')))"
      ]
     },
     "metadata": {},
     "output_type": "display_data"
    },
    {
     "data": {
      "application/vnd.jupyter.widget-view+json": {
       "model_id": "e39c9ef5e899486f87a4e3422632afda",
       "version_major": 2,
       "version_minor": 0
      },
      "text/plain": [
       "HBox(children=(IntProgress(value=0, max=3), HTML(value='')))"
      ]
     },
     "metadata": {},
     "output_type": "display_data"
    },
    {
     "data": {
      "application/vnd.jupyter.widget-view+json": {
       "model_id": "24835e5dfa0240d6bac6278dafe2a00e",
       "version_major": 2,
       "version_minor": 0
      },
      "text/plain": [
       "HBox(children=(IntProgress(value=0, max=1), HTML(value='')))"
      ]
     },
     "metadata": {},
     "output_type": "display_data"
    },
    {
     "data": {
      "application/vnd.jupyter.widget-view+json": {
       "model_id": "4f486268c8124949b38f1edc011bb080",
       "version_major": 2,
       "version_minor": 0
      },
      "text/plain": [
       "HBox(children=(IntProgress(value=0, max=1), HTML(value='')))"
      ]
     },
     "metadata": {},
     "output_type": "display_data"
    },
    {
     "data": {
      "application/vnd.jupyter.widget-view+json": {
       "model_id": "001bd6fe0e8f4541ad7566a7fd8e6ae1",
       "version_major": 2,
       "version_minor": 0
      },
      "text/plain": [
       "HBox(children=(IntProgress(value=0, max=7), HTML(value='')))"
      ]
     },
     "metadata": {},
     "output_type": "display_data"
    },
    {
     "data": {
      "application/vnd.jupyter.widget-view+json": {
       "model_id": "b5af60d04a9d468c81ab0558ac5e295b",
       "version_major": 2,
       "version_minor": 0
      },
      "text/plain": [
       "HBox(children=(IntProgress(value=0, max=3), HTML(value='')))"
      ]
     },
     "metadata": {},
     "output_type": "display_data"
    },
    {
     "data": {
      "application/vnd.jupyter.widget-view+json": {
       "model_id": "228d4607f87c4a9489b9650cc90e4f08",
       "version_major": 2,
       "version_minor": 0
      },
      "text/plain": [
       "HBox(children=(IntProgress(value=0, max=35), HTML(value='')))"
      ]
     },
     "metadata": {},
     "output_type": "display_data"
    },
    {
     "data": {
      "application/vnd.jupyter.widget-view+json": {
       "model_id": "697dc49de0b14cd48d55cb73d3a83c4b",
       "version_major": 2,
       "version_minor": 0
      },
      "text/plain": [
       "HBox(children=(IntProgress(value=0, max=7), HTML(value='')))"
      ]
     },
     "metadata": {},
     "output_type": "display_data"
    },
    {
     "data": {
      "application/vnd.jupyter.widget-view+json": {
       "model_id": "50738d044804423ab149c82ac187d5b9",
       "version_major": 2,
       "version_minor": 0
      },
      "text/plain": [
       "HBox(children=(IntProgress(value=0, max=1), HTML(value='')))"
      ]
     },
     "metadata": {},
     "output_type": "display_data"
    },
    {
     "data": {
      "application/vnd.jupyter.widget-view+json": {
       "model_id": "42fdc39fe3ac4be1af2814f7285f4603",
       "version_major": 2,
       "version_minor": 0
      },
      "text/plain": [
       "HBox(children=(IntProgress(value=0, max=6), HTML(value='')))"
      ]
     },
     "metadata": {},
     "output_type": "display_data"
    },
    {
     "data": {
      "application/vnd.jupyter.widget-view+json": {
       "model_id": "55a7eef6293645e79901e4e7312af274",
       "version_major": 2,
       "version_minor": 0
      },
      "text/plain": [
       "HBox(children=(IntProgress(value=0, max=2), HTML(value='')))"
      ]
     },
     "metadata": {},
     "output_type": "display_data"
    },
    {
     "data": {
      "application/vnd.jupyter.widget-view+json": {
       "model_id": "12995460b6d74636bc9eb67a8ce35d57",
       "version_major": 2,
       "version_minor": 0
      },
      "text/plain": [
       "HBox(children=(IntProgress(value=0, max=1), HTML(value='')))"
      ]
     },
     "metadata": {},
     "output_type": "display_data"
    },
    {
     "data": {
      "application/vnd.jupyter.widget-view+json": {
       "model_id": "173188ed8bfc425887aa38566dfa19f4",
       "version_major": 2,
       "version_minor": 0
      },
      "text/plain": [
       "HBox(children=(IntProgress(value=0, max=11), HTML(value='')))"
      ]
     },
     "metadata": {},
     "output_type": "display_data"
    },
    {
     "data": {
      "application/vnd.jupyter.widget-view+json": {
       "model_id": "a440fd82a59d49798518d5a39193dddf",
       "version_major": 2,
       "version_minor": 0
      },
      "text/plain": [
       "HBox(children=(IntProgress(value=0, max=1), HTML(value='')))"
      ]
     },
     "metadata": {},
     "output_type": "display_data"
    },
    {
     "data": {
      "application/vnd.jupyter.widget-view+json": {
       "model_id": "31f7a149d16b478d80234267c3e3a597",
       "version_major": 2,
       "version_minor": 0
      },
      "text/plain": [
       "HBox(children=(IntProgress(value=0, max=1), HTML(value='')))"
      ]
     },
     "metadata": {},
     "output_type": "display_data"
    },
    {
     "data": {
      "application/vnd.jupyter.widget-view+json": {
       "model_id": "4242571fda65466ea55cfeec49cc1982",
       "version_major": 2,
       "version_minor": 0
      },
      "text/plain": [
       "HBox(children=(IntProgress(value=0, max=2), HTML(value='')))"
      ]
     },
     "metadata": {},
     "output_type": "display_data"
    },
    {
     "data": {
      "application/vnd.jupyter.widget-view+json": {
       "model_id": "c268ff01fe094936b2ab23ae899c14be",
       "version_major": 2,
       "version_minor": 0
      },
      "text/plain": [
       "HBox(children=(IntProgress(value=0, max=3), HTML(value='')))"
      ]
     },
     "metadata": {},
     "output_type": "display_data"
    },
    {
     "data": {
      "application/vnd.jupyter.widget-view+json": {
       "model_id": "22ee76e5d4ed481cb87fc3bbea52dc6e",
       "version_major": 2,
       "version_minor": 0
      },
      "text/plain": [
       "HBox(children=(IntProgress(value=0, max=1), HTML(value='')))"
      ]
     },
     "metadata": {},
     "output_type": "display_data"
    },
    {
     "data": {
      "application/vnd.jupyter.widget-view+json": {
       "model_id": "991be6108ea946a9a32c1aba06e75a1c",
       "version_major": 2,
       "version_minor": 0
      },
      "text/plain": [
       "HBox(children=(IntProgress(value=0, max=4), HTML(value='')))"
      ]
     },
     "metadata": {},
     "output_type": "display_data"
    },
    {
     "data": {
      "application/vnd.jupyter.widget-view+json": {
       "model_id": "057a0290309346b1be8665572e6aabd5",
       "version_major": 2,
       "version_minor": 0
      },
      "text/plain": [
       "HBox(children=(IntProgress(value=0, max=28), HTML(value='')))"
      ]
     },
     "metadata": {},
     "output_type": "display_data"
    },
    {
     "data": {
      "application/vnd.jupyter.widget-view+json": {
       "model_id": "79d77f35631d4c4faaf52361965607b3",
       "version_major": 2,
       "version_minor": 0
      },
      "text/plain": [
       "HBox(children=(IntProgress(value=0, max=1), HTML(value='')))"
      ]
     },
     "metadata": {},
     "output_type": "display_data"
    },
    {
     "data": {
      "application/vnd.jupyter.widget-view+json": {
       "model_id": "e996d577b75846beb347061caaa5c3f4",
       "version_major": 2,
       "version_minor": 0
      },
      "text/plain": [
       "HBox(children=(IntProgress(value=0, max=5), HTML(value='')))"
      ]
     },
     "metadata": {},
     "output_type": "display_data"
    },
    {
     "data": {
      "application/vnd.jupyter.widget-view+json": {
       "model_id": "37898095e5cf47b4b12f3fa0ce0ff215",
       "version_major": 2,
       "version_minor": 0
      },
      "text/plain": [
       "HBox(children=(IntProgress(value=0, max=41), HTML(value='')))"
      ]
     },
     "metadata": {},
     "output_type": "display_data"
    },
    {
     "data": {
      "application/vnd.jupyter.widget-view+json": {
       "model_id": "20eb12d3236c451086150d406db5125c",
       "version_major": 2,
       "version_minor": 0
      },
      "text/plain": [
       "HBox(children=(IntProgress(value=0, max=1), HTML(value='')))"
      ]
     },
     "metadata": {},
     "output_type": "display_data"
    },
    {
     "data": {
      "application/vnd.jupyter.widget-view+json": {
       "model_id": "4d56f055402b4b32867401aec6f0ba94",
       "version_major": 2,
       "version_minor": 0
      },
      "text/plain": [
       "HBox(children=(IntProgress(value=0, max=4), HTML(value='')))"
      ]
     },
     "metadata": {},
     "output_type": "display_data"
    },
    {
     "data": {
      "application/vnd.jupyter.widget-view+json": {
       "model_id": "6518d846f8284c2fb16a52b0affee79f",
       "version_major": 2,
       "version_minor": 0
      },
      "text/plain": [
       "HBox(children=(IntProgress(value=0, max=11), HTML(value='')))"
      ]
     },
     "metadata": {},
     "output_type": "display_data"
    },
    {
     "data": {
      "application/vnd.jupyter.widget-view+json": {
       "model_id": "a56395d4b9a947aa9c893842a207a826",
       "version_major": 2,
       "version_minor": 0
      },
      "text/plain": [
       "HBox(children=(IntProgress(value=0, max=6), HTML(value='')))"
      ]
     },
     "metadata": {},
     "output_type": "display_data"
    },
    {
     "data": {
      "application/vnd.jupyter.widget-view+json": {
       "model_id": "d74c7da62f0a4c81a0f1f9e94e1a8542",
       "version_major": 2,
       "version_minor": 0
      },
      "text/plain": [
       "HBox(children=(IntProgress(value=0, max=6), HTML(value='')))"
      ]
     },
     "metadata": {},
     "output_type": "display_data"
    },
    {
     "data": {
      "application/vnd.jupyter.widget-view+json": {
       "model_id": "e0dddbcb4ca140a6bf62840215016760",
       "version_major": 2,
       "version_minor": 0
      },
      "text/plain": [
       "HBox(children=(IntProgress(value=0, max=6), HTML(value='')))"
      ]
     },
     "metadata": {},
     "output_type": "display_data"
    },
    {
     "data": {
      "application/vnd.jupyter.widget-view+json": {
       "model_id": "3d552cd8fe6b4364b11b5732ff37b7ca",
       "version_major": 2,
       "version_minor": 0
      },
      "text/plain": [
       "HBox(children=(IntProgress(value=0, max=2), HTML(value='')))"
      ]
     },
     "metadata": {},
     "output_type": "display_data"
    },
    {
     "data": {
      "application/vnd.jupyter.widget-view+json": {
       "model_id": "c283dbfc8f3e4cfb9f366db63e150817",
       "version_major": 2,
       "version_minor": 0
      },
      "text/plain": [
       "HBox(children=(IntProgress(value=0, max=43), HTML(value='')))"
      ]
     },
     "metadata": {},
     "output_type": "display_data"
    },
    {
     "data": {
      "application/vnd.jupyter.widget-view+json": {
       "model_id": "97f2e172335f4d81bf8d40323dd3094e",
       "version_major": 2,
       "version_minor": 0
      },
      "text/plain": [
       "HBox(children=(IntProgress(value=0, max=1), HTML(value='')))"
      ]
     },
     "metadata": {},
     "output_type": "display_data"
    },
    {
     "data": {
      "application/vnd.jupyter.widget-view+json": {
       "model_id": "f0e5a2c68e0d4b1b91aa1b09aa21e71c",
       "version_major": 2,
       "version_minor": 0
      },
      "text/plain": [
       "HBox(children=(IntProgress(value=0, max=1), HTML(value='')))"
      ]
     },
     "metadata": {},
     "output_type": "display_data"
    },
    {
     "data": {
      "application/vnd.jupyter.widget-view+json": {
       "model_id": "1800358615ea4e81a385457877bf4367",
       "version_major": 2,
       "version_minor": 0
      },
      "text/plain": [
       "HBox(children=(IntProgress(value=0, max=1), HTML(value='')))"
      ]
     },
     "metadata": {},
     "output_type": "display_data"
    },
    {
     "data": {
      "application/vnd.jupyter.widget-view+json": {
       "model_id": "15378de913724a3bb2eb51543ab3f644",
       "version_major": 2,
       "version_minor": 0
      },
      "text/plain": [
       "HBox(children=(IntProgress(value=0, max=20), HTML(value='')))"
      ]
     },
     "metadata": {},
     "output_type": "display_data"
    },
    {
     "data": {
      "application/vnd.jupyter.widget-view+json": {
       "model_id": "b0fe18a3d7e8488d8dec3035d885554c",
       "version_major": 2,
       "version_minor": 0
      },
      "text/plain": [
       "HBox(children=(IntProgress(value=0, max=8), HTML(value='')))"
      ]
     },
     "metadata": {},
     "output_type": "display_data"
    },
    {
     "data": {
      "application/vnd.jupyter.widget-view+json": {
       "model_id": "409242d9457a48149d566b13b5cb85db",
       "version_major": 2,
       "version_minor": 0
      },
      "text/plain": [
       "HBox(children=(IntProgress(value=0, max=11), HTML(value='')))"
      ]
     },
     "metadata": {},
     "output_type": "display_data"
    },
    {
     "data": {
      "application/vnd.jupyter.widget-view+json": {
       "model_id": "d9b7b1aa77a845caab90dc55ad3cb49c",
       "version_major": 2,
       "version_minor": 0
      },
      "text/plain": [
       "HBox(children=(IntProgress(value=0, max=14), HTML(value='')))"
      ]
     },
     "metadata": {},
     "output_type": "display_data"
    },
    {
     "data": {
      "application/vnd.jupyter.widget-view+json": {
       "model_id": "08bd9a30610247bab73713533fd296d6",
       "version_major": 2,
       "version_minor": 0
      },
      "text/plain": [
       "HBox(children=(IntProgress(value=0, max=1), HTML(value='')))"
      ]
     },
     "metadata": {},
     "output_type": "display_data"
    },
    {
     "data": {
      "application/vnd.jupyter.widget-view+json": {
       "model_id": "0bdcc0ca289f484f8af31c1b0f4aedcd",
       "version_major": 2,
       "version_minor": 0
      },
      "text/plain": [
       "HBox(children=(IntProgress(value=0, max=22), HTML(value='')))"
      ]
     },
     "metadata": {},
     "output_type": "display_data"
    },
    {
     "data": {
      "application/vnd.jupyter.widget-view+json": {
       "model_id": "4a827c69ab28426ba1cf977e71c2cc7b",
       "version_major": 2,
       "version_minor": 0
      },
      "text/plain": [
       "HBox(children=(IntProgress(value=0, max=2), HTML(value='')))"
      ]
     },
     "metadata": {},
     "output_type": "display_data"
    },
    {
     "data": {
      "application/vnd.jupyter.widget-view+json": {
       "model_id": "e48c24668cb74fc49b267cfbd9d94754",
       "version_major": 2,
       "version_minor": 0
      },
      "text/plain": [
       "HBox(children=(IntProgress(value=0, max=8), HTML(value='')))"
      ]
     },
     "metadata": {},
     "output_type": "display_data"
    },
    {
     "data": {
      "application/vnd.jupyter.widget-view+json": {
       "model_id": "d125b41d58674a6cae8b1713dc721cb0",
       "version_major": 2,
       "version_minor": 0
      },
      "text/plain": [
       "HBox(children=(IntProgress(value=0, max=4), HTML(value='')))"
      ]
     },
     "metadata": {},
     "output_type": "display_data"
    },
    {
     "data": {
      "application/vnd.jupyter.widget-view+json": {
       "model_id": "fe22f6f6e3b04fa6b043afe16855089c",
       "version_major": 2,
       "version_minor": 0
      },
      "text/plain": [
       "HBox(children=(IntProgress(value=0, max=7), HTML(value='')))"
      ]
     },
     "metadata": {},
     "output_type": "display_data"
    },
    {
     "data": {
      "application/vnd.jupyter.widget-view+json": {
       "model_id": "a2ec7fa7a03d4ebcb8c012b74df1cac8",
       "version_major": 2,
       "version_minor": 0
      },
      "text/plain": [
       "HBox(children=(IntProgress(value=0, max=12), HTML(value='')))"
      ]
     },
     "metadata": {},
     "output_type": "display_data"
    },
    {
     "data": {
      "application/vnd.jupyter.widget-view+json": {
       "model_id": "a58d2e79eb234782a5e4ee65a5c76546",
       "version_major": 2,
       "version_minor": 0
      },
      "text/plain": [
       "HBox(children=(IntProgress(value=0, max=6), HTML(value='')))"
      ]
     },
     "metadata": {},
     "output_type": "display_data"
    },
    {
     "data": {
      "application/vnd.jupyter.widget-view+json": {
       "model_id": "6d9fa9cbdc774737874bf53f4acbc8e8",
       "version_major": 2,
       "version_minor": 0
      },
      "text/plain": [
       "HBox(children=(IntProgress(value=0, max=3), HTML(value='')))"
      ]
     },
     "metadata": {},
     "output_type": "display_data"
    },
    {
     "data": {
      "application/vnd.jupyter.widget-view+json": {
       "model_id": "9848645dcdc2471a8cf78fd169464444",
       "version_major": 2,
       "version_minor": 0
      },
      "text/plain": [
       "HBox(children=(IntProgress(value=0, max=2), HTML(value='')))"
      ]
     },
     "metadata": {},
     "output_type": "display_data"
    },
    {
     "data": {
      "application/vnd.jupyter.widget-view+json": {
       "model_id": "fa568ab7799c41f0b9cb2cdd97869612",
       "version_major": 2,
       "version_minor": 0
      },
      "text/plain": [
       "HBox(children=(IntProgress(value=0, max=1), HTML(value='')))"
      ]
     },
     "metadata": {},
     "output_type": "display_data"
    },
    {
     "data": {
      "application/vnd.jupyter.widget-view+json": {
       "model_id": "1faed77422f54db1b0b97daf45f6d3ce",
       "version_major": 2,
       "version_minor": 0
      },
      "text/plain": [
       "HBox(children=(IntProgress(value=0, max=2), HTML(value='')))"
      ]
     },
     "metadata": {},
     "output_type": "display_data"
    },
    {
     "data": {
      "application/vnd.jupyter.widget-view+json": {
       "model_id": "e4ff09b74a7845dba72699ff17844a10",
       "version_major": 2,
       "version_minor": 0
      },
      "text/plain": [
       "HBox(children=(IntProgress(value=0, max=1), HTML(value='')))"
      ]
     },
     "metadata": {},
     "output_type": "display_data"
    },
    {
     "data": {
      "application/vnd.jupyter.widget-view+json": {
       "model_id": "edfd0eac65b543918f4dd5cbdda10bb3",
       "version_major": 2,
       "version_minor": 0
      },
      "text/plain": [
       "HBox(children=(IntProgress(value=0, max=3), HTML(value='')))"
      ]
     },
     "metadata": {},
     "output_type": "display_data"
    },
    {
     "data": {
      "application/vnd.jupyter.widget-view+json": {
       "model_id": "f931f8a126af47c890a20520a4aa6462",
       "version_major": 2,
       "version_minor": 0
      },
      "text/plain": [
       "HBox(children=(IntProgress(value=0, max=2), HTML(value='')))"
      ]
     },
     "metadata": {},
     "output_type": "display_data"
    },
    {
     "data": {
      "application/vnd.jupyter.widget-view+json": {
       "model_id": "40e024ae4a564dfbb8b69ea8e89ccfdb",
       "version_major": 2,
       "version_minor": 0
      },
      "text/plain": [
       "HBox(children=(IntProgress(value=0, max=4), HTML(value='')))"
      ]
     },
     "metadata": {},
     "output_type": "display_data"
    },
    {
     "data": {
      "application/vnd.jupyter.widget-view+json": {
       "model_id": "7df226646a0743ed94e71cb7f08c977a",
       "version_major": 2,
       "version_minor": 0
      },
      "text/plain": [
       "HBox(children=(IntProgress(value=0, max=2), HTML(value='')))"
      ]
     },
     "metadata": {},
     "output_type": "display_data"
    },
    {
     "data": {
      "application/vnd.jupyter.widget-view+json": {
       "model_id": "6a12307e049e4f3bb60ac6f5a07cb73c",
       "version_major": 2,
       "version_minor": 0
      },
      "text/plain": [
       "HBox(children=(IntProgress(value=0, max=3), HTML(value='')))"
      ]
     },
     "metadata": {},
     "output_type": "display_data"
    },
    {
     "data": {
      "application/vnd.jupyter.widget-view+json": {
       "model_id": "14c73a7dfa8d4fedb3932b2e8880a10b",
       "version_major": 2,
       "version_minor": 0
      },
      "text/plain": [
       "HBox(children=(IntProgress(value=0, max=11), HTML(value='')))"
      ]
     },
     "metadata": {},
     "output_type": "display_data"
    },
    {
     "data": {
      "application/vnd.jupyter.widget-view+json": {
       "model_id": "09a774e52dbf4136bc36a37937cce7aa",
       "version_major": 2,
       "version_minor": 0
      },
      "text/plain": [
       "HBox(children=(IntProgress(value=0, max=56), HTML(value='')))"
      ]
     },
     "metadata": {},
     "output_type": "display_data"
    },
    {
     "data": {
      "application/vnd.jupyter.widget-view+json": {
       "model_id": "f1862f4cada542cd864e7fb2688e9e9c",
       "version_major": 2,
       "version_minor": 0
      },
      "text/plain": [
       "HBox(children=(IntProgress(value=0, max=7), HTML(value='')))"
      ]
     },
     "metadata": {},
     "output_type": "display_data"
    },
    {
     "data": {
      "application/vnd.jupyter.widget-view+json": {
       "model_id": "47ddec098c8742d78235b9201bbf8ca3",
       "version_major": 2,
       "version_minor": 0
      },
      "text/plain": [
       "HBox(children=(IntProgress(value=0, max=5), HTML(value='')))"
      ]
     },
     "metadata": {},
     "output_type": "display_data"
    },
    {
     "data": {
      "application/vnd.jupyter.widget-view+json": {
       "model_id": "6838dd9ef69e46c394c743ca03aeb8aa",
       "version_major": 2,
       "version_minor": 0
      },
      "text/plain": [
       "HBox(children=(IntProgress(value=0, max=2), HTML(value='')))"
      ]
     },
     "metadata": {},
     "output_type": "display_data"
    },
    {
     "data": {
      "application/vnd.jupyter.widget-view+json": {
       "model_id": "aaef396192834ad699095f58065abd4a",
       "version_major": 2,
       "version_minor": 0
      },
      "text/plain": [
       "HBox(children=(IntProgress(value=0, max=5), HTML(value='')))"
      ]
     },
     "metadata": {},
     "output_type": "display_data"
    },
    {
     "data": {
      "application/vnd.jupyter.widget-view+json": {
       "model_id": "af6e774d0e334cdc962412843cc505cb",
       "version_major": 2,
       "version_minor": 0
      },
      "text/plain": [
       "HBox(children=(IntProgress(value=0, max=30), HTML(value='')))"
      ]
     },
     "metadata": {},
     "output_type": "display_data"
    },
    {
     "data": {
      "application/vnd.jupyter.widget-view+json": {
       "model_id": "5ccf10be71e84a58ae207536a8cce5f3",
       "version_major": 2,
       "version_minor": 0
      },
      "text/plain": [
       "HBox(children=(IntProgress(value=0, max=2), HTML(value='')))"
      ]
     },
     "metadata": {},
     "output_type": "display_data"
    },
    {
     "data": {
      "application/vnd.jupyter.widget-view+json": {
       "model_id": "49eaa2db9a934a87b706bfa96c83020b",
       "version_major": 2,
       "version_minor": 0
      },
      "text/plain": [
       "HBox(children=(IntProgress(value=0, max=33), HTML(value='')))"
      ]
     },
     "metadata": {},
     "output_type": "display_data"
    },
    {
     "data": {
      "application/vnd.jupyter.widget-view+json": {
       "model_id": "24b13d580d4a4a1db91dbc90eb27a8a5",
       "version_major": 2,
       "version_minor": 0
      },
      "text/plain": [
       "HBox(children=(IntProgress(value=0, max=3), HTML(value='')))"
      ]
     },
     "metadata": {},
     "output_type": "display_data"
    },
    {
     "data": {
      "application/vnd.jupyter.widget-view+json": {
       "model_id": "78d6d9aa4e5d42b3883e79a075745d48",
       "version_major": 2,
       "version_minor": 0
      },
      "text/plain": [
       "HBox(children=(IntProgress(value=0, max=2), HTML(value='')))"
      ]
     },
     "metadata": {},
     "output_type": "display_data"
    },
    {
     "data": {
      "application/vnd.jupyter.widget-view+json": {
       "model_id": "8c645f1539b8423998beceb4a9b300c9",
       "version_major": 2,
       "version_minor": 0
      },
      "text/plain": [
       "HBox(children=(IntProgress(value=0, max=7), HTML(value='')))"
      ]
     },
     "metadata": {},
     "output_type": "display_data"
    },
    {
     "data": {
      "application/vnd.jupyter.widget-view+json": {
       "model_id": "c108ba787b6d4f26a7dda5cd66d785f3",
       "version_major": 2,
       "version_minor": 0
      },
      "text/plain": [
       "HBox(children=(IntProgress(value=0, max=14), HTML(value='')))"
      ]
     },
     "metadata": {},
     "output_type": "display_data"
    },
    {
     "data": {
      "application/vnd.jupyter.widget-view+json": {
       "model_id": "7664d4dc57ab4b4582047d47307ffb6d",
       "version_major": 2,
       "version_minor": 0
      },
      "text/plain": [
       "HBox(children=(IntProgress(value=0, max=1), HTML(value='')))"
      ]
     },
     "metadata": {},
     "output_type": "display_data"
    },
    {
     "data": {
      "application/vnd.jupyter.widget-view+json": {
       "model_id": "d933ded98dc643c98b3ca7a65afc3ab8",
       "version_major": 2,
       "version_minor": 0
      },
      "text/plain": [
       "HBox(children=(IntProgress(value=0, max=6), HTML(value='')))"
      ]
     },
     "metadata": {},
     "output_type": "display_data"
    },
    {
     "data": {
      "application/vnd.jupyter.widget-view+json": {
       "model_id": "c49165b2a7c341d2b5b6f22b1a70df98",
       "version_major": 2,
       "version_minor": 0
      },
      "text/plain": [
       "HBox(children=(IntProgress(value=0, max=20), HTML(value='')))"
      ]
     },
     "metadata": {},
     "output_type": "display_data"
    },
    {
     "data": {
      "application/vnd.jupyter.widget-view+json": {
       "model_id": "67753a14672e480ca89b2e58a526ac09",
       "version_major": 2,
       "version_minor": 0
      },
      "text/plain": [
       "HBox(children=(IntProgress(value=0, max=9), HTML(value='')))"
      ]
     },
     "metadata": {},
     "output_type": "display_data"
    },
    {
     "data": {
      "application/vnd.jupyter.widget-view+json": {
       "model_id": "3a883c6c063b44788826f414082d67be",
       "version_major": 2,
       "version_minor": 0
      },
      "text/plain": [
       "HBox(children=(IntProgress(value=0, max=7), HTML(value='')))"
      ]
     },
     "metadata": {},
     "output_type": "display_data"
    },
    {
     "data": {
      "application/vnd.jupyter.widget-view+json": {
       "model_id": "b4dfb6d7905c4ca4afdfe0aa5d6bce80",
       "version_major": 2,
       "version_minor": 0
      },
      "text/plain": [
       "HBox(children=(IntProgress(value=0, max=29), HTML(value='')))"
      ]
     },
     "metadata": {},
     "output_type": "display_data"
    },
    {
     "data": {
      "application/vnd.jupyter.widget-view+json": {
       "model_id": "bb9c0d00f7d34793826b4a6389f32b16",
       "version_major": 2,
       "version_minor": 0
      },
      "text/plain": [
       "HBox(children=(IntProgress(value=0, max=26), HTML(value='')))"
      ]
     },
     "metadata": {},
     "output_type": "display_data"
    },
    {
     "data": {
      "application/vnd.jupyter.widget-view+json": {
       "model_id": "f6bc8ed7c8fe4c73a648a649967539db",
       "version_major": 2,
       "version_minor": 0
      },
      "text/plain": [
       "HBox(children=(IntProgress(value=0, max=3), HTML(value='')))"
      ]
     },
     "metadata": {},
     "output_type": "display_data"
    },
    {
     "data": {
      "application/vnd.jupyter.widget-view+json": {
       "model_id": "1f3d9bae57d1457983d03fdbbf48854c",
       "version_major": 2,
       "version_minor": 0
      },
      "text/plain": [
       "HBox(children=(IntProgress(value=0, max=9), HTML(value='')))"
      ]
     },
     "metadata": {},
     "output_type": "display_data"
    },
    {
     "data": {
      "application/vnd.jupyter.widget-view+json": {
       "model_id": "2f165abc030b4c60a2086da31d350f45",
       "version_major": 2,
       "version_minor": 0
      },
      "text/plain": [
       "HBox(children=(IntProgress(value=0, max=16), HTML(value='')))"
      ]
     },
     "metadata": {},
     "output_type": "display_data"
    },
    {
     "data": {
      "application/vnd.jupyter.widget-view+json": {
       "model_id": "4c8a93a141454eccb029170c7b6a566c",
       "version_major": 2,
       "version_minor": 0
      },
      "text/plain": [
       "HBox(children=(IntProgress(value=0, max=11), HTML(value='')))"
      ]
     },
     "metadata": {},
     "output_type": "display_data"
    },
    {
     "data": {
      "application/vnd.jupyter.widget-view+json": {
       "model_id": "43a9a91b53bf4bc3869b8e495f8de961",
       "version_major": 2,
       "version_minor": 0
      },
      "text/plain": [
       "HBox(children=(IntProgress(value=0, max=8), HTML(value='')))"
      ]
     },
     "metadata": {},
     "output_type": "display_data"
    },
    {
     "data": {
      "application/vnd.jupyter.widget-view+json": {
       "model_id": "dcd7ea9c07964c95a9443206edd4c5cb",
       "version_major": 2,
       "version_minor": 0
      },
      "text/plain": [
       "HBox(children=(IntProgress(value=0, max=3), HTML(value='')))"
      ]
     },
     "metadata": {},
     "output_type": "display_data"
    },
    {
     "data": {
      "application/vnd.jupyter.widget-view+json": {
       "model_id": "5edc2be239744be59466175889c1e8e6",
       "version_major": 2,
       "version_minor": 0
      },
      "text/plain": [
       "HBox(children=(IntProgress(value=0, max=30), HTML(value='')))"
      ]
     },
     "metadata": {},
     "output_type": "display_data"
    },
    {
     "data": {
      "application/vnd.jupyter.widget-view+json": {
       "model_id": "86cc47322f5148c5a58ab67e75a215dc",
       "version_major": 2,
       "version_minor": 0
      },
      "text/plain": [
       "HBox(children=(IntProgress(value=0, max=11), HTML(value='')))"
      ]
     },
     "metadata": {},
     "output_type": "display_data"
    },
    {
     "data": {
      "application/vnd.jupyter.widget-view+json": {
       "model_id": "1de99b9f84714c2e832e1719eabf013e",
       "version_major": 2,
       "version_minor": 0
      },
      "text/plain": [
       "HBox(children=(IntProgress(value=0, max=6), HTML(value='')))"
      ]
     },
     "metadata": {},
     "output_type": "display_data"
    },
    {
     "data": {
      "application/vnd.jupyter.widget-view+json": {
       "model_id": "d76c48b50a32417d9c044ebbf2541b70",
       "version_major": 2,
       "version_minor": 0
      },
      "text/plain": [
       "HBox(children=(IntProgress(value=0, max=5), HTML(value='')))"
      ]
     },
     "metadata": {},
     "output_type": "display_data"
    },
    {
     "data": {
      "application/vnd.jupyter.widget-view+json": {
       "model_id": "3c787cfee3244e2b88325c6c3cfe404e",
       "version_major": 2,
       "version_minor": 0
      },
      "text/plain": [
       "HBox(children=(IntProgress(value=0, max=108), HTML(value='')))"
      ]
     },
     "metadata": {},
     "output_type": "display_data"
    },
    {
     "data": {
      "application/vnd.jupyter.widget-view+json": {
       "model_id": "7d80858a2a504882933562b5795e6c9c",
       "version_major": 2,
       "version_minor": 0
      },
      "text/plain": [
       "HBox(children=(IntProgress(value=0, max=1), HTML(value='')))"
      ]
     },
     "metadata": {},
     "output_type": "display_data"
    },
    {
     "data": {
      "application/vnd.jupyter.widget-view+json": {
       "model_id": "63c45087c0fa4cde91ef0ec379e0c46f",
       "version_major": 2,
       "version_minor": 0
      },
      "text/plain": [
       "HBox(children=(IntProgress(value=0, max=1), HTML(value='')))"
      ]
     },
     "metadata": {},
     "output_type": "display_data"
    },
    {
     "data": {
      "application/vnd.jupyter.widget-view+json": {
       "model_id": "1988143aad6b45d2a6b8e878b114c05b",
       "version_major": 2,
       "version_minor": 0
      },
      "text/plain": [
       "HBox(children=(IntProgress(value=0, max=14), HTML(value='')))"
      ]
     },
     "metadata": {},
     "output_type": "display_data"
    },
    {
     "data": {
      "application/vnd.jupyter.widget-view+json": {
       "model_id": "aad8cb4c058e4145b4c39c1ca2135100",
       "version_major": 2,
       "version_minor": 0
      },
      "text/plain": [
       "HBox(children=(IntProgress(value=0, max=1), HTML(value='')))"
      ]
     },
     "metadata": {},
     "output_type": "display_data"
    },
    {
     "data": {
      "application/vnd.jupyter.widget-view+json": {
       "model_id": "a2818e16d4e6419ebc64ccc5946a147d",
       "version_major": 2,
       "version_minor": 0
      },
      "text/plain": [
       "HBox(children=(IntProgress(value=0, max=38), HTML(value='')))"
      ]
     },
     "metadata": {},
     "output_type": "display_data"
    },
    {
     "data": {
      "application/vnd.jupyter.widget-view+json": {
       "model_id": "016f382eff6a4028b76284b31a827787",
       "version_major": 2,
       "version_minor": 0
      },
      "text/plain": [
       "HBox(children=(IntProgress(value=0, max=3), HTML(value='')))"
      ]
     },
     "metadata": {},
     "output_type": "display_data"
    },
    {
     "data": {
      "application/vnd.jupyter.widget-view+json": {
       "model_id": "8f1eafe4d1064674a6b4979f345e56b3",
       "version_major": 2,
       "version_minor": 0
      },
      "text/plain": [
       "HBox(children=(IntProgress(value=0, max=6), HTML(value='')))"
      ]
     },
     "metadata": {},
     "output_type": "display_data"
    },
    {
     "data": {
      "application/vnd.jupyter.widget-view+json": {
       "model_id": "9c336cb45e764555a40d1999b8bd1e61",
       "version_major": 2,
       "version_minor": 0
      },
      "text/plain": [
       "HBox(children=(IntProgress(value=0, max=32), HTML(value='')))"
      ]
     },
     "metadata": {},
     "output_type": "display_data"
    },
    {
     "data": {
      "application/vnd.jupyter.widget-view+json": {
       "model_id": "2d3be1a96bf04ddea9c9694764f0d97a",
       "version_major": 2,
       "version_minor": 0
      },
      "text/plain": [
       "HBox(children=(IntProgress(value=0, max=7), HTML(value='')))"
      ]
     },
     "metadata": {},
     "output_type": "display_data"
    },
    {
     "data": {
      "application/vnd.jupyter.widget-view+json": {
       "model_id": "dff6b1101fdc48c7849200068c3f24b2",
       "version_major": 2,
       "version_minor": 0
      },
      "text/plain": [
       "HBox(children=(IntProgress(value=0, max=2), HTML(value='')))"
      ]
     },
     "metadata": {},
     "output_type": "display_data"
    },
    {
     "data": {
      "application/vnd.jupyter.widget-view+json": {
       "model_id": "56423752ef944aa586458f3cba6a8998",
       "version_major": 2,
       "version_minor": 0
      },
      "text/plain": [
       "HBox(children=(IntProgress(value=0, max=18), HTML(value='')))"
      ]
     },
     "metadata": {},
     "output_type": "display_data"
    },
    {
     "data": {
      "application/vnd.jupyter.widget-view+json": {
       "model_id": "2b3245c91ca3458ca2b9ea09ad578431",
       "version_major": 2,
       "version_minor": 0
      },
      "text/plain": [
       "HBox(children=(IntProgress(value=0, max=1), HTML(value='')))"
      ]
     },
     "metadata": {},
     "output_type": "display_data"
    },
    {
     "data": {
      "application/vnd.jupyter.widget-view+json": {
       "model_id": "d6a16fdd73e94341999670bb0c991a5e",
       "version_major": 2,
       "version_minor": 0
      },
      "text/plain": [
       "HBox(children=(IntProgress(value=0, max=11), HTML(value='')))"
      ]
     },
     "metadata": {},
     "output_type": "display_data"
    },
    {
     "data": {
      "application/vnd.jupyter.widget-view+json": {
       "model_id": "1ca3bc1daa284afcb7e8123efaa23b35",
       "version_major": 2,
       "version_minor": 0
      },
      "text/plain": [
       "HBox(children=(IntProgress(value=0, max=5), HTML(value='')))"
      ]
     },
     "metadata": {},
     "output_type": "display_data"
    },
    {
     "data": {
      "application/vnd.jupyter.widget-view+json": {
       "model_id": "1c6a23c7092d4caab526dfebc38b41cf",
       "version_major": 2,
       "version_minor": 0
      },
      "text/plain": [
       "HBox(children=(IntProgress(value=0, max=13), HTML(value='')))"
      ]
     },
     "metadata": {},
     "output_type": "display_data"
    },
    {
     "data": {
      "application/vnd.jupyter.widget-view+json": {
       "model_id": "95420168f31c4458af9f7a6290d3d192",
       "version_major": 2,
       "version_minor": 0
      },
      "text/plain": [
       "HBox(children=(IntProgress(value=0, max=25), HTML(value='')))"
      ]
     },
     "metadata": {},
     "output_type": "display_data"
    },
    {
     "data": {
      "application/vnd.jupyter.widget-view+json": {
       "model_id": "f4b561a4c6e646d4829d7ee991178f74",
       "version_major": 2,
       "version_minor": 0
      },
      "text/plain": [
       "HBox(children=(IntProgress(value=0, max=6), HTML(value='')))"
      ]
     },
     "metadata": {},
     "output_type": "display_data"
    },
    {
     "data": {
      "application/vnd.jupyter.widget-view+json": {
       "model_id": "50405a322d3d424bbd4d475215a13d46",
       "version_major": 2,
       "version_minor": 0
      },
      "text/plain": [
       "HBox(children=(IntProgress(value=0, max=20), HTML(value='')))"
      ]
     },
     "metadata": {},
     "output_type": "display_data"
    },
    {
     "data": {
      "application/vnd.jupyter.widget-view+json": {
       "model_id": "babe1d3c92554f4e8cca6f50d18f5410",
       "version_major": 2,
       "version_minor": 0
      },
      "text/plain": [
       "HBox(children=(IntProgress(value=0, max=2), HTML(value='')))"
      ]
     },
     "metadata": {},
     "output_type": "display_data"
    },
    {
     "data": {
      "application/vnd.jupyter.widget-view+json": {
       "model_id": "052392c66fea4607aebb6960c0329526",
       "version_major": 2,
       "version_minor": 0
      },
      "text/plain": [
       "HBox(children=(IntProgress(value=0, max=2), HTML(value='')))"
      ]
     },
     "metadata": {},
     "output_type": "display_data"
    },
    {
     "data": {
      "application/vnd.jupyter.widget-view+json": {
       "model_id": "d57a779eeaa545d1bc3cab83b9714aeb",
       "version_major": 2,
       "version_minor": 0
      },
      "text/plain": [
       "HBox(children=(IntProgress(value=0, max=4), HTML(value='')))"
      ]
     },
     "metadata": {},
     "output_type": "display_data"
    },
    {
     "data": {
      "application/vnd.jupyter.widget-view+json": {
       "model_id": "73a74701fa724c64948bdc2bca7d60a5",
       "version_major": 2,
       "version_minor": 0
      },
      "text/plain": [
       "HBox(children=(IntProgress(value=0, max=1), HTML(value='')))"
      ]
     },
     "metadata": {},
     "output_type": "display_data"
    },
    {
     "data": {
      "application/vnd.jupyter.widget-view+json": {
       "model_id": "4ae875a146d046ac90cad79cdc4a7fb4",
       "version_major": 2,
       "version_minor": 0
      },
      "text/plain": [
       "HBox(children=(IntProgress(value=0, max=50), HTML(value='')))"
      ]
     },
     "metadata": {},
     "output_type": "display_data"
    },
    {
     "data": {
      "application/vnd.jupyter.widget-view+json": {
       "model_id": "947784460f51447ca279681cf8be3a26",
       "version_major": 2,
       "version_minor": 0
      },
      "text/plain": [
       "HBox(children=(IntProgress(value=0, max=69), HTML(value='')))"
      ]
     },
     "metadata": {},
     "output_type": "display_data"
    },
    {
     "data": {
      "application/vnd.jupyter.widget-view+json": {
       "model_id": "2e1dcec418f7428381d80b66caf7a16b",
       "version_major": 2,
       "version_minor": 0
      },
      "text/plain": [
       "HBox(children=(IntProgress(value=0, max=36), HTML(value='')))"
      ]
     },
     "metadata": {},
     "output_type": "display_data"
    },
    {
     "data": {
      "application/vnd.jupyter.widget-view+json": {
       "model_id": "79359710546c4035a5cd2f52607ce565",
       "version_major": 2,
       "version_minor": 0
      },
      "text/plain": [
       "HBox(children=(IntProgress(value=0, max=4), HTML(value='')))"
      ]
     },
     "metadata": {},
     "output_type": "display_data"
    },
    {
     "data": {
      "application/vnd.jupyter.widget-view+json": {
       "model_id": "d35a932415174e3eb2b392f04995e279",
       "version_major": 2,
       "version_minor": 0
      },
      "text/plain": [
       "HBox(children=(IntProgress(value=0, max=33), HTML(value='')))"
      ]
     },
     "metadata": {},
     "output_type": "display_data"
    },
    {
     "data": {
      "application/vnd.jupyter.widget-view+json": {
       "model_id": "41815afb1e0e4b54a020d84ea07900b9",
       "version_major": 2,
       "version_minor": 0
      },
      "text/plain": [
       "HBox(children=(IntProgress(value=0, max=7), HTML(value='')))"
      ]
     },
     "metadata": {},
     "output_type": "display_data"
    },
    {
     "data": {
      "application/vnd.jupyter.widget-view+json": {
       "model_id": "5183410bc20247408612a3e96a7327de",
       "version_major": 2,
       "version_minor": 0
      },
      "text/plain": [
       "HBox(children=(IntProgress(value=0, max=6), HTML(value='')))"
      ]
     },
     "metadata": {},
     "output_type": "display_data"
    },
    {
     "data": {
      "application/vnd.jupyter.widget-view+json": {
       "model_id": "d74cc318116b4fcf9ca107317a36a536",
       "version_major": 2,
       "version_minor": 0
      },
      "text/plain": [
       "HBox(children=(IntProgress(value=0, max=2), HTML(value='')))"
      ]
     },
     "metadata": {},
     "output_type": "display_data"
    },
    {
     "data": {
      "application/vnd.jupyter.widget-view+json": {
       "model_id": "07b7184688844d908c6a37eb30db473a",
       "version_major": 2,
       "version_minor": 0
      },
      "text/plain": [
       "HBox(children=(IntProgress(value=0, max=1), HTML(value='')))"
      ]
     },
     "metadata": {},
     "output_type": "display_data"
    },
    {
     "data": {
      "application/vnd.jupyter.widget-view+json": {
       "model_id": "abe7e777479c4a059fc544ab2aa6d875",
       "version_major": 2,
       "version_minor": 0
      },
      "text/plain": [
       "HBox(children=(IntProgress(value=0, max=17), HTML(value='')))"
      ]
     },
     "metadata": {},
     "output_type": "display_data"
    },
    {
     "data": {
      "application/vnd.jupyter.widget-view+json": {
       "model_id": "24021e76fdd141c2a0705b0e65140e24",
       "version_major": 2,
       "version_minor": 0
      },
      "text/plain": [
       "HBox(children=(IntProgress(value=0, max=7), HTML(value='')))"
      ]
     },
     "metadata": {},
     "output_type": "display_data"
    },
    {
     "data": {
      "application/vnd.jupyter.widget-view+json": {
       "model_id": "0107c212e1e84e9ab7b1e1a6fe57a900",
       "version_major": 2,
       "version_minor": 0
      },
      "text/plain": [
       "HBox(children=(IntProgress(value=0, max=24), HTML(value='')))"
      ]
     },
     "metadata": {},
     "output_type": "display_data"
    },
    {
     "data": {
      "application/vnd.jupyter.widget-view+json": {
       "model_id": "6602d54bdb56429f8e373b6864fccd13",
       "version_major": 2,
       "version_minor": 0
      },
      "text/plain": [
       "HBox(children=(IntProgress(value=0, max=4), HTML(value='')))"
      ]
     },
     "metadata": {},
     "output_type": "display_data"
    },
    {
     "data": {
      "application/vnd.jupyter.widget-view+json": {
       "model_id": "c991a1f3d83d48d699082e417c46588a",
       "version_major": 2,
       "version_minor": 0
      },
      "text/plain": [
       "HBox(children=(IntProgress(value=0, max=1), HTML(value='')))"
      ]
     },
     "metadata": {},
     "output_type": "display_data"
    },
    {
     "data": {
      "application/vnd.jupyter.widget-view+json": {
       "model_id": "696f0fb4c8dd4de0a543367b590bcce4",
       "version_major": 2,
       "version_minor": 0
      },
      "text/plain": [
       "HBox(children=(IntProgress(value=0, max=3), HTML(value='')))"
      ]
     },
     "metadata": {},
     "output_type": "display_data"
    },
    {
     "data": {
      "application/vnd.jupyter.widget-view+json": {
       "model_id": "6e5ee31523f84288b643a17824443530",
       "version_major": 2,
       "version_minor": 0
      },
      "text/plain": [
       "HBox(children=(IntProgress(value=0, max=4), HTML(value='')))"
      ]
     },
     "metadata": {},
     "output_type": "display_data"
    },
    {
     "data": {
      "application/vnd.jupyter.widget-view+json": {
       "model_id": "3f9b656cac204e44887f9bc89cc068bd",
       "version_major": 2,
       "version_minor": 0
      },
      "text/plain": [
       "HBox(children=(IntProgress(value=0, max=2), HTML(value='')))"
      ]
     },
     "metadata": {},
     "output_type": "display_data"
    },
    {
     "data": {
      "application/vnd.jupyter.widget-view+json": {
       "model_id": "cabc488b112449ec9db09b7f262642d4",
       "version_major": 2,
       "version_minor": 0
      },
      "text/plain": [
       "HBox(children=(IntProgress(value=0, max=3), HTML(value='')))"
      ]
     },
     "metadata": {},
     "output_type": "display_data"
    },
    {
     "data": {
      "application/vnd.jupyter.widget-view+json": {
       "model_id": "aff6bce8645a472e952f2c363f6548db",
       "version_major": 2,
       "version_minor": 0
      },
      "text/plain": [
       "HBox(children=(IntProgress(value=0, max=5), HTML(value='')))"
      ]
     },
     "metadata": {},
     "output_type": "display_data"
    },
    {
     "data": {
      "application/vnd.jupyter.widget-view+json": {
       "model_id": "248cc08e5d734ff7b8b0ee4389529d26",
       "version_major": 2,
       "version_minor": 0
      },
      "text/plain": [
       "HBox(children=(IntProgress(value=0, max=9), HTML(value='')))"
      ]
     },
     "metadata": {},
     "output_type": "display_data"
    },
    {
     "data": {
      "application/vnd.jupyter.widget-view+json": {
       "model_id": "c695b08996044712b1070453219ccce4",
       "version_major": 2,
       "version_minor": 0
      },
      "text/plain": [
       "HBox(children=(IntProgress(value=0, max=1), HTML(value='')))"
      ]
     },
     "metadata": {},
     "output_type": "display_data"
    },
    {
     "data": {
      "application/vnd.jupyter.widget-view+json": {
       "model_id": "5d591c4bf4204892abf758135d7c0b23",
       "version_major": 2,
       "version_minor": 0
      },
      "text/plain": [
       "HBox(children=(IntProgress(value=0, max=8), HTML(value='')))"
      ]
     },
     "metadata": {},
     "output_type": "display_data"
    },
    {
     "data": {
      "application/vnd.jupyter.widget-view+json": {
       "model_id": "a64e0ded9f7a47adaaa5ce0a694f484e",
       "version_major": 2,
       "version_minor": 0
      },
      "text/plain": [
       "HBox(children=(IntProgress(value=0, max=10), HTML(value='')))"
      ]
     },
     "metadata": {},
     "output_type": "display_data"
    },
    {
     "data": {
      "application/vnd.jupyter.widget-view+json": {
       "model_id": "eeaacd26732c4f6f83f7b977622d1ad0",
       "version_major": 2,
       "version_minor": 0
      },
      "text/plain": [
       "HBox(children=(IntProgress(value=0, max=3), HTML(value='')))"
      ]
     },
     "metadata": {},
     "output_type": "display_data"
    },
    {
     "data": {
      "application/vnd.jupyter.widget-view+json": {
       "model_id": "8dd589e600ff40f984f20403757abc31",
       "version_major": 2,
       "version_minor": 0
      },
      "text/plain": [
       "HBox(children=(IntProgress(value=0, max=2), HTML(value='')))"
      ]
     },
     "metadata": {},
     "output_type": "display_data"
    },
    {
     "data": {
      "application/vnd.jupyter.widget-view+json": {
       "model_id": "a0a10be5244e49549b7db3208d6882c1",
       "version_major": 2,
       "version_minor": 0
      },
      "text/plain": [
       "HBox(children=(IntProgress(value=0, max=15), HTML(value='')))"
      ]
     },
     "metadata": {},
     "output_type": "display_data"
    },
    {
     "data": {
      "application/vnd.jupyter.widget-view+json": {
       "model_id": "9cc827eac8dd4bc495b3bf64330fe796",
       "version_major": 2,
       "version_minor": 0
      },
      "text/plain": [
       "HBox(children=(IntProgress(value=0, max=70), HTML(value='')))"
      ]
     },
     "metadata": {},
     "output_type": "display_data"
    },
    {
     "data": {
      "application/vnd.jupyter.widget-view+json": {
       "model_id": "0054f0d335ad47018d79736f78e53a5e",
       "version_major": 2,
       "version_minor": 0
      },
      "text/plain": [
       "HBox(children=(IntProgress(value=0, max=2), HTML(value='')))"
      ]
     },
     "metadata": {},
     "output_type": "display_data"
    },
    {
     "data": {
      "application/vnd.jupyter.widget-view+json": {
       "model_id": "cab2e41d15204b288d392a32d20bf33a",
       "version_major": 2,
       "version_minor": 0
      },
      "text/plain": [
       "HBox(children=(IntProgress(value=0, max=8), HTML(value='')))"
      ]
     },
     "metadata": {},
     "output_type": "display_data"
    },
    {
     "data": {
      "application/vnd.jupyter.widget-view+json": {
       "model_id": "7f9659b4e2d544c89ab1e3d8567bac77",
       "version_major": 2,
       "version_minor": 0
      },
      "text/plain": [
       "HBox(children=(IntProgress(value=0, max=30), HTML(value='')))"
      ]
     },
     "metadata": {},
     "output_type": "display_data"
    },
    {
     "data": {
      "application/vnd.jupyter.widget-view+json": {
       "model_id": "7c80d5752c934fab8c0727d220da4473",
       "version_major": 2,
       "version_minor": 0
      },
      "text/plain": [
       "HBox(children=(IntProgress(value=0, max=11), HTML(value='')))"
      ]
     },
     "metadata": {},
     "output_type": "display_data"
    },
    {
     "data": {
      "application/vnd.jupyter.widget-view+json": {
       "model_id": "56f29d74bd6c4fde8c64880bfe6942c2",
       "version_major": 2,
       "version_minor": 0
      },
      "text/plain": [
       "HBox(children=(IntProgress(value=0, max=3), HTML(value='')))"
      ]
     },
     "metadata": {},
     "output_type": "display_data"
    },
    {
     "data": {
      "application/vnd.jupyter.widget-view+json": {
       "model_id": "9fdbd6690f184c3eb04bb15b5bd52d33",
       "version_major": 2,
       "version_minor": 0
      },
      "text/plain": [
       "HBox(children=(IntProgress(value=0, max=11), HTML(value='')))"
      ]
     },
     "metadata": {},
     "output_type": "display_data"
    },
    {
     "data": {
      "application/vnd.jupyter.widget-view+json": {
       "model_id": "d3e74765eb5f49b78227d082c7033e30",
       "version_major": 2,
       "version_minor": 0
      },
      "text/plain": [
       "HBox(children=(IntProgress(value=0, max=13), HTML(value='')))"
      ]
     },
     "metadata": {},
     "output_type": "display_data"
    },
    {
     "data": {
      "application/vnd.jupyter.widget-view+json": {
       "model_id": "7328400af3df48bf92326da65924baed",
       "version_major": 2,
       "version_minor": 0
      },
      "text/plain": [
       "HBox(children=(IntProgress(value=0, max=3), HTML(value='')))"
      ]
     },
     "metadata": {},
     "output_type": "display_data"
    },
    {
     "data": {
      "application/vnd.jupyter.widget-view+json": {
       "model_id": "f4536c4fc703447a8f6751cfaec4f3b3",
       "version_major": 2,
       "version_minor": 0
      },
      "text/plain": [
       "HBox(children=(IntProgress(value=0, max=1), HTML(value='')))"
      ]
     },
     "metadata": {},
     "output_type": "display_data"
    },
    {
     "data": {
      "application/vnd.jupyter.widget-view+json": {
       "model_id": "33c1c3c50efb4f108350c1f49bbcec05",
       "version_major": 2,
       "version_minor": 0
      },
      "text/plain": [
       "HBox(children=(IntProgress(value=0, max=2), HTML(value='')))"
      ]
     },
     "metadata": {},
     "output_type": "display_data"
    },
    {
     "data": {
      "application/vnd.jupyter.widget-view+json": {
       "model_id": "cb39b9b914da4d23a92cf6288d6f14d6",
       "version_major": 2,
       "version_minor": 0
      },
      "text/plain": [
       "HBox(children=(IntProgress(value=0, max=8), HTML(value='')))"
      ]
     },
     "metadata": {},
     "output_type": "display_data"
    },
    {
     "data": {
      "application/vnd.jupyter.widget-view+json": {
       "model_id": "77706eae56764e169715736ff8031447",
       "version_major": 2,
       "version_minor": 0
      },
      "text/plain": [
       "HBox(children=(IntProgress(value=0, max=5), HTML(value='')))"
      ]
     },
     "metadata": {},
     "output_type": "display_data"
    },
    {
     "data": {
      "application/vnd.jupyter.widget-view+json": {
       "model_id": "b6e280baa5f94880bc00144efa9c6c02",
       "version_major": 2,
       "version_minor": 0
      },
      "text/plain": [
       "HBox(children=(IntProgress(value=0, max=3), HTML(value='')))"
      ]
     },
     "metadata": {},
     "output_type": "display_data"
    },
    {
     "data": {
      "application/vnd.jupyter.widget-view+json": {
       "model_id": "2744fa8315d74e92a083b139a74221d8",
       "version_major": 2,
       "version_minor": 0
      },
      "text/plain": [
       "HBox(children=(IntProgress(value=0, max=7), HTML(value='')))"
      ]
     },
     "metadata": {},
     "output_type": "display_data"
    },
    {
     "data": {
      "application/vnd.jupyter.widget-view+json": {
       "model_id": "eadfeee9ac504140933ba6c55e6bf23f",
       "version_major": 2,
       "version_minor": 0
      },
      "text/plain": [
       "HBox(children=(IntProgress(value=0, max=3), HTML(value='')))"
      ]
     },
     "metadata": {},
     "output_type": "display_data"
    },
    {
     "data": {
      "application/vnd.jupyter.widget-view+json": {
       "model_id": "77dcf94f66324132aef1a24bf0d7a55b",
       "version_major": 2,
       "version_minor": 0
      },
      "text/plain": [
       "HBox(children=(IntProgress(value=0, max=12), HTML(value='')))"
      ]
     },
     "metadata": {},
     "output_type": "display_data"
    },
    {
     "data": {
      "application/vnd.jupyter.widget-view+json": {
       "model_id": "c12348c34b3e4b0f879cb5a18c174e6d",
       "version_major": 2,
       "version_minor": 0
      },
      "text/plain": [
       "HBox(children=(IntProgress(value=0, max=10), HTML(value='')))"
      ]
     },
     "metadata": {},
     "output_type": "display_data"
    },
    {
     "data": {
      "application/vnd.jupyter.widget-view+json": {
       "model_id": "128528519a334e8fbf5811e1818d9015",
       "version_major": 2,
       "version_minor": 0
      },
      "text/plain": [
       "HBox(children=(IntProgress(value=0, max=17), HTML(value='')))"
      ]
     },
     "metadata": {},
     "output_type": "display_data"
    },
    {
     "data": {
      "application/vnd.jupyter.widget-view+json": {
       "model_id": "820bb9399af64b329a8bd8a017e9d7d0",
       "version_major": 2,
       "version_minor": 0
      },
      "text/plain": [
       "HBox(children=(IntProgress(value=0, max=21), HTML(value='')))"
      ]
     },
     "metadata": {},
     "output_type": "display_data"
    },
    {
     "data": {
      "application/vnd.jupyter.widget-view+json": {
       "model_id": "3c1175f90cf346268202193c0ec53c55",
       "version_major": 2,
       "version_minor": 0
      },
      "text/plain": [
       "HBox(children=(IntProgress(value=0, max=5), HTML(value='')))"
      ]
     },
     "metadata": {},
     "output_type": "display_data"
    },
    {
     "data": {
      "application/vnd.jupyter.widget-view+json": {
       "model_id": "b90764da036b4964ae346109a6cbd73b",
       "version_major": 2,
       "version_minor": 0
      },
      "text/plain": [
       "HBox(children=(IntProgress(value=0, max=8), HTML(value='')))"
      ]
     },
     "metadata": {},
     "output_type": "display_data"
    },
    {
     "data": {
      "application/vnd.jupyter.widget-view+json": {
       "model_id": "09c3351b51ba445c8633febcefac90ce",
       "version_major": 2,
       "version_minor": 0
      },
      "text/plain": [
       "HBox(children=(IntProgress(value=0, max=3), HTML(value='')))"
      ]
     },
     "metadata": {},
     "output_type": "display_data"
    },
    {
     "data": {
      "application/vnd.jupyter.widget-view+json": {
       "model_id": "d61e6d457307489695b7a85dc7143fa4",
       "version_major": 2,
       "version_minor": 0
      },
      "text/plain": [
       "HBox(children=(IntProgress(value=0, max=8), HTML(value='')))"
      ]
     },
     "metadata": {},
     "output_type": "display_data"
    },
    {
     "data": {
      "application/vnd.jupyter.widget-view+json": {
       "model_id": "67372a8a63e74290b2c7a303102b4bcf",
       "version_major": 2,
       "version_minor": 0
      },
      "text/plain": [
       "HBox(children=(IntProgress(value=0, max=2), HTML(value='')))"
      ]
     },
     "metadata": {},
     "output_type": "display_data"
    },
    {
     "data": {
      "application/vnd.jupyter.widget-view+json": {
       "model_id": "d873f86013054d74a85d8121a6232274",
       "version_major": 2,
       "version_minor": 0
      },
      "text/plain": [
       "HBox(children=(IntProgress(value=0, max=5), HTML(value='')))"
      ]
     },
     "metadata": {},
     "output_type": "display_data"
    },
    {
     "data": {
      "application/vnd.jupyter.widget-view+json": {
       "model_id": "7ccede7d994046788a7393a9d22d3ae6",
       "version_major": 2,
       "version_minor": 0
      },
      "text/plain": [
       "HBox(children=(IntProgress(value=0, max=9), HTML(value='')))"
      ]
     },
     "metadata": {},
     "output_type": "display_data"
    },
    {
     "data": {
      "application/vnd.jupyter.widget-view+json": {
       "model_id": "4439609f5a7d4bdd9957ea2aeb3a62b4",
       "version_major": 2,
       "version_minor": 0
      },
      "text/plain": [
       "HBox(children=(IntProgress(value=0, max=14), HTML(value='')))"
      ]
     },
     "metadata": {},
     "output_type": "display_data"
    },
    {
     "data": {
      "application/vnd.jupyter.widget-view+json": {
       "model_id": "62f1c6a798ed403bb875dbb7e48be925",
       "version_major": 2,
       "version_minor": 0
      },
      "text/plain": [
       "HBox(children=(IntProgress(value=0, max=10), HTML(value='')))"
      ]
     },
     "metadata": {},
     "output_type": "display_data"
    },
    {
     "data": {
      "application/vnd.jupyter.widget-view+json": {
       "model_id": "8a09415c8cc34776accdaa81dba2b020",
       "version_major": 2,
       "version_minor": 0
      },
      "text/plain": [
       "HBox(children=(IntProgress(value=0, max=34), HTML(value='')))"
      ]
     },
     "metadata": {},
     "output_type": "display_data"
    },
    {
     "data": {
      "application/vnd.jupyter.widget-view+json": {
       "model_id": "72ae8cacbf144a15b9a58b50a4eda987",
       "version_major": 2,
       "version_minor": 0
      },
      "text/plain": [
       "HBox(children=(IntProgress(value=0, max=6), HTML(value='')))"
      ]
     },
     "metadata": {},
     "output_type": "display_data"
    },
    {
     "data": {
      "application/vnd.jupyter.widget-view+json": {
       "model_id": "5ad637ca54564993964cdc09c51a5de5",
       "version_major": 2,
       "version_minor": 0
      },
      "text/plain": [
       "HBox(children=(IntProgress(value=0, max=55), HTML(value='')))"
      ]
     },
     "metadata": {},
     "output_type": "display_data"
    },
    {
     "data": {
      "application/vnd.jupyter.widget-view+json": {
       "model_id": "75651b5bfb874fbcb9848c85673458d2",
       "version_major": 2,
       "version_minor": 0
      },
      "text/plain": [
       "HBox(children=(IntProgress(value=0, max=15), HTML(value='')))"
      ]
     },
     "metadata": {},
     "output_type": "display_data"
    },
    {
     "data": {
      "application/vnd.jupyter.widget-view+json": {
       "model_id": "bdd8ae70f3884822b64be73b8c2d25ce",
       "version_major": 2,
       "version_minor": 0
      },
      "text/plain": [
       "HBox(children=(IntProgress(value=0, max=2), HTML(value='')))"
      ]
     },
     "metadata": {},
     "output_type": "display_data"
    },
    {
     "data": {
      "application/vnd.jupyter.widget-view+json": {
       "model_id": "482033c7b85448179e15eb23ee179879",
       "version_major": 2,
       "version_minor": 0
      },
      "text/plain": [
       "HBox(children=(IntProgress(value=0, max=31), HTML(value='')))"
      ]
     },
     "metadata": {},
     "output_type": "display_data"
    },
    {
     "data": {
      "application/vnd.jupyter.widget-view+json": {
       "model_id": "7e2c82a070dc4e088fee500a714953be",
       "version_major": 2,
       "version_minor": 0
      },
      "text/plain": [
       "HBox(children=(IntProgress(value=0, max=7), HTML(value='')))"
      ]
     },
     "metadata": {},
     "output_type": "display_data"
    },
    {
     "data": {
      "application/vnd.jupyter.widget-view+json": {
       "model_id": "040323fba79b481c90059e2c62e81b72",
       "version_major": 2,
       "version_minor": 0
      },
      "text/plain": [
       "HBox(children=(IntProgress(value=0, max=5), HTML(value='')))"
      ]
     },
     "metadata": {},
     "output_type": "display_data"
    },
    {
     "data": {
      "application/vnd.jupyter.widget-view+json": {
       "model_id": "eda78752452040599a5f3c13fe867c50",
       "version_major": 2,
       "version_minor": 0
      },
      "text/plain": [
       "HBox(children=(IntProgress(value=0, max=6), HTML(value='')))"
      ]
     },
     "metadata": {},
     "output_type": "display_data"
    },
    {
     "data": {
      "application/vnd.jupyter.widget-view+json": {
       "model_id": "2e6ee869eb8e4b60b5fbd1583b9895c5",
       "version_major": 2,
       "version_minor": 0
      },
      "text/plain": [
       "HBox(children=(IntProgress(value=0, max=1), HTML(value='')))"
      ]
     },
     "metadata": {},
     "output_type": "display_data"
    },
    {
     "data": {
      "application/vnd.jupyter.widget-view+json": {
       "model_id": "263cd3d22e694529be629df94d3cefbf",
       "version_major": 2,
       "version_minor": 0
      },
      "text/plain": [
       "HBox(children=(IntProgress(value=0, max=3), HTML(value='')))"
      ]
     },
     "metadata": {},
     "output_type": "display_data"
    },
    {
     "data": {
      "application/vnd.jupyter.widget-view+json": {
       "model_id": "731d0aab952949ef98d5feb14cf492be",
       "version_major": 2,
       "version_minor": 0
      },
      "text/plain": [
       "HBox(children=(IntProgress(value=0, max=30), HTML(value='')))"
      ]
     },
     "metadata": {},
     "output_type": "display_data"
    },
    {
     "data": {
      "application/vnd.jupyter.widget-view+json": {
       "model_id": "a97f57074ed34caf8b4554ec83b1aea2",
       "version_major": 2,
       "version_minor": 0
      },
      "text/plain": [
       "HBox(children=(IntProgress(value=0, max=33), HTML(value='')))"
      ]
     },
     "metadata": {},
     "output_type": "display_data"
    },
    {
     "data": {
      "application/vnd.jupyter.widget-view+json": {
       "model_id": "fed117801dc24695be357f391abd50fa",
       "version_major": 2,
       "version_minor": 0
      },
      "text/plain": [
       "HBox(children=(IntProgress(value=0, max=9), HTML(value='')))"
      ]
     },
     "metadata": {},
     "output_type": "display_data"
    },
    {
     "data": {
      "application/vnd.jupyter.widget-view+json": {
       "model_id": "9294dac638564215ad18fbb4d7af77c5",
       "version_major": 2,
       "version_minor": 0
      },
      "text/plain": [
       "HBox(children=(IntProgress(value=0, max=14), HTML(value='')))"
      ]
     },
     "metadata": {},
     "output_type": "display_data"
    },
    {
     "data": {
      "application/vnd.jupyter.widget-view+json": {
       "model_id": "1b50a92c0d63424c95ca713c07e20c3b",
       "version_major": 2,
       "version_minor": 0
      },
      "text/plain": [
       "HBox(children=(IntProgress(value=0, max=2), HTML(value='')))"
      ]
     },
     "metadata": {},
     "output_type": "display_data"
    },
    {
     "data": {
      "application/vnd.jupyter.widget-view+json": {
       "model_id": "4559171c662849c1886f3cb0d7c49f61",
       "version_major": 2,
       "version_minor": 0
      },
      "text/plain": [
       "HBox(children=(IntProgress(value=0, max=15), HTML(value='')))"
      ]
     },
     "metadata": {},
     "output_type": "display_data"
    },
    {
     "data": {
      "application/vnd.jupyter.widget-view+json": {
       "model_id": "36835f38b9684e2798d7de88d9014b76",
       "version_major": 2,
       "version_minor": 0
      },
      "text/plain": [
       "HBox(children=(IntProgress(value=0, max=3), HTML(value='')))"
      ]
     },
     "metadata": {},
     "output_type": "display_data"
    },
    {
     "data": {
      "application/vnd.jupyter.widget-view+json": {
       "model_id": "508390c8600a471cbe2706f0504f7641",
       "version_major": 2,
       "version_minor": 0
      },
      "text/plain": [
       "HBox(children=(IntProgress(value=0, max=10), HTML(value='')))"
      ]
     },
     "metadata": {},
     "output_type": "display_data"
    },
    {
     "data": {
      "application/vnd.jupyter.widget-view+json": {
       "model_id": "106e4490497a4063b4a8492831863f3f",
       "version_major": 2,
       "version_minor": 0
      },
      "text/plain": [
       "HBox(children=(IntProgress(value=0, max=73), HTML(value='')))"
      ]
     },
     "metadata": {},
     "output_type": "display_data"
    },
    {
     "data": {
      "application/vnd.jupyter.widget-view+json": {
       "model_id": "468d6c4a1f7d413f9f159b8236832c34",
       "version_major": 2,
       "version_minor": 0
      },
      "text/plain": [
       "HBox(children=(IntProgress(value=0, max=17), HTML(value='')))"
      ]
     },
     "metadata": {},
     "output_type": "display_data"
    },
    {
     "data": {
      "application/vnd.jupyter.widget-view+json": {
       "model_id": "c8bd094b0f434e7789b47caa6dd6328b",
       "version_major": 2,
       "version_minor": 0
      },
      "text/plain": [
       "HBox(children=(IntProgress(value=0, max=15), HTML(value='')))"
      ]
     },
     "metadata": {},
     "output_type": "display_data"
    },
    {
     "data": {
      "application/vnd.jupyter.widget-view+json": {
       "model_id": "3d2b5e727acc47e5ba30e93d113b884a",
       "version_major": 2,
       "version_minor": 0
      },
      "text/plain": [
       "HBox(children=(IntProgress(value=0, max=46), HTML(value='')))"
      ]
     },
     "metadata": {},
     "output_type": "display_data"
    },
    {
     "data": {
      "application/vnd.jupyter.widget-view+json": {
       "model_id": "127aa6a1e6614ec1ab887ae47a9d8265",
       "version_major": 2,
       "version_minor": 0
      },
      "text/plain": [
       "HBox(children=(IntProgress(value=0, max=66), HTML(value='')))"
      ]
     },
     "metadata": {},
     "output_type": "display_data"
    },
    {
     "data": {
      "application/vnd.jupyter.widget-view+json": {
       "model_id": "75823a262c064c6da185e5c7ed8d6416",
       "version_major": 2,
       "version_minor": 0
      },
      "text/plain": [
       "HBox(children=(IntProgress(value=0, max=104), HTML(value='')))"
      ]
     },
     "metadata": {},
     "output_type": "display_data"
    },
    {
     "data": {
      "application/vnd.jupyter.widget-view+json": {
       "model_id": "b212b934ccf74cd2b7849fd676ac7f7c",
       "version_major": 2,
       "version_minor": 0
      },
      "text/plain": [
       "HBox(children=(IntProgress(value=0, max=49), HTML(value='')))"
      ]
     },
     "metadata": {},
     "output_type": "display_data"
    },
    {
     "data": {
      "application/vnd.jupyter.widget-view+json": {
       "model_id": "85bcb21c44634989987c9fd397bf6745",
       "version_major": 2,
       "version_minor": 0
      },
      "text/plain": [
       "HBox(children=(IntProgress(value=0, max=65), HTML(value='')))"
      ]
     },
     "metadata": {},
     "output_type": "display_data"
    },
    {
     "data": {
      "application/vnd.jupyter.widget-view+json": {
       "model_id": "ac25c204140b4b6886d43428ea1778ac",
       "version_major": 2,
       "version_minor": 0
      },
      "text/plain": [
       "HBox(children=(IntProgress(value=0, max=53), HTML(value='')))"
      ]
     },
     "metadata": {},
     "output_type": "display_data"
    },
    {
     "data": {
      "application/vnd.jupyter.widget-view+json": {
       "model_id": "56b0ba36660c4de89a0c46c898690910",
       "version_major": 2,
       "version_minor": 0
      },
      "text/plain": [
       "HBox(children=(IntProgress(value=0, max=19), HTML(value='')))"
      ]
     },
     "metadata": {},
     "output_type": "display_data"
    },
    {
     "data": {
      "application/vnd.jupyter.widget-view+json": {
       "model_id": "426ad807223b4b10a53c13f65c0b87e9",
       "version_major": 2,
       "version_minor": 0
      },
      "text/plain": [
       "HBox(children=(IntProgress(value=0, max=38), HTML(value='')))"
      ]
     },
     "metadata": {},
     "output_type": "display_data"
    },
    {
     "data": {
      "application/vnd.jupyter.widget-view+json": {
       "model_id": "fa1e481f37d74e5ba6eac909e9200b01",
       "version_major": 2,
       "version_minor": 0
      },
      "text/plain": [
       "HBox(children=(IntProgress(value=0, max=11), HTML(value='')))"
      ]
     },
     "metadata": {},
     "output_type": "display_data"
    },
    {
     "data": {
      "application/vnd.jupyter.widget-view+json": {
       "model_id": "c660f64dd0fd4f84bf1adeed477686c7",
       "version_major": 2,
       "version_minor": 0
      },
      "text/plain": [
       "HBox(children=(IntProgress(value=0, max=9), HTML(value='')))"
      ]
     },
     "metadata": {},
     "output_type": "display_data"
    },
    {
     "data": {
      "application/vnd.jupyter.widget-view+json": {
       "model_id": "9ab578a586c747d58a808a9e9c490dd1",
       "version_major": 2,
       "version_minor": 0
      },
      "text/plain": [
       "HBox(children=(IntProgress(value=0, max=26), HTML(value='')))"
      ]
     },
     "metadata": {},
     "output_type": "display_data"
    },
    {
     "data": {
      "application/vnd.jupyter.widget-view+json": {
       "model_id": "3de023ce0729474e97df051d3ce1848a",
       "version_major": 2,
       "version_minor": 0
      },
      "text/plain": [
       "HBox(children=(IntProgress(value=0, max=14), HTML(value='')))"
      ]
     },
     "metadata": {},
     "output_type": "display_data"
    },
    {
     "data": {
      "application/vnd.jupyter.widget-view+json": {
       "model_id": "e3a5da33e25a40aaad0474247ecc27af",
       "version_major": 2,
       "version_minor": 0
      },
      "text/plain": [
       "HBox(children=(IntProgress(value=0, max=26), HTML(value='')))"
      ]
     },
     "metadata": {},
     "output_type": "display_data"
    },
    {
     "data": {
      "application/vnd.jupyter.widget-view+json": {
       "model_id": "bda104d3871c4b8ea60999ce42098b6d",
       "version_major": 2,
       "version_minor": 0
      },
      "text/plain": [
       "HBox(children=(IntProgress(value=0, max=12), HTML(value='')))"
      ]
     },
     "metadata": {},
     "output_type": "display_data"
    },
    {
     "data": {
      "application/vnd.jupyter.widget-view+json": {
       "model_id": "52e76601503a489da3bbc7d3bcaa166f",
       "version_major": 2,
       "version_minor": 0
      },
      "text/plain": [
       "HBox(children=(IntProgress(value=0, max=4), HTML(value='')))"
      ]
     },
     "metadata": {},
     "output_type": "display_data"
    },
    {
     "data": {
      "application/vnd.jupyter.widget-view+json": {
       "model_id": "e496df73c1f24bc6ae26c537644c8779",
       "version_major": 2,
       "version_minor": 0
      },
      "text/plain": [
       "HBox(children=(IntProgress(value=0, max=12), HTML(value='')))"
      ]
     },
     "metadata": {},
     "output_type": "display_data"
    },
    {
     "data": {
      "application/vnd.jupyter.widget-view+json": {
       "model_id": "1335e689f39a474790dd66665c9f53db",
       "version_major": 2,
       "version_minor": 0
      },
      "text/plain": [
       "HBox(children=(IntProgress(value=0, max=20), HTML(value='')))"
      ]
     },
     "metadata": {},
     "output_type": "display_data"
    },
    {
     "data": {
      "application/vnd.jupyter.widget-view+json": {
       "model_id": "342f17781fdb4378873ae4b8c73c7e09",
       "version_major": 2,
       "version_minor": 0
      },
      "text/plain": [
       "HBox(children=(IntProgress(value=0, max=66), HTML(value='')))"
      ]
     },
     "metadata": {},
     "output_type": "display_data"
    },
    {
     "data": {
      "application/vnd.jupyter.widget-view+json": {
       "model_id": "ada4db824ce54686b0ef3c53021f7a1f",
       "version_major": 2,
       "version_minor": 0
      },
      "text/plain": [
       "HBox(children=(IntProgress(value=0, max=5), HTML(value='')))"
      ]
     },
     "metadata": {},
     "output_type": "display_data"
    },
    {
     "data": {
      "application/vnd.jupyter.widget-view+json": {
       "model_id": "082e44a66edc412d8caeb187fe117536",
       "version_major": 2,
       "version_minor": 0
      },
      "text/plain": [
       "HBox(children=(IntProgress(value=0, max=50), HTML(value='')))"
      ]
     },
     "metadata": {},
     "output_type": "display_data"
    },
    {
     "data": {
      "application/vnd.jupyter.widget-view+json": {
       "model_id": "4aef4f7b28cf4cb1b32f4d9b952b4e83",
       "version_major": 2,
       "version_minor": 0
      },
      "text/plain": [
       "HBox(children=(IntProgress(value=0, max=34), HTML(value='')))"
      ]
     },
     "metadata": {},
     "output_type": "display_data"
    },
    {
     "data": {
      "application/vnd.jupyter.widget-view+json": {
       "model_id": "633b9b566aa543edae48b55e561517b4",
       "version_major": 2,
       "version_minor": 0
      },
      "text/plain": [
       "HBox(children=(IntProgress(value=0, max=12), HTML(value='')))"
      ]
     },
     "metadata": {},
     "output_type": "display_data"
    },
    {
     "data": {
      "application/vnd.jupyter.widget-view+json": {
       "model_id": "1fffcbe054cd4a998d897c0367da8bf5",
       "version_major": 2,
       "version_minor": 0
      },
      "text/plain": [
       "HBox(children=(IntProgress(value=0, max=62), HTML(value='')))"
      ]
     },
     "metadata": {},
     "output_type": "display_data"
    },
    {
     "data": {
      "application/vnd.jupyter.widget-view+json": {
       "model_id": "502195773fae48c5ab6a36588885438a",
       "version_major": 2,
       "version_minor": 0
      },
      "text/plain": [
       "HBox(children=(IntProgress(value=0, max=5), HTML(value='')))"
      ]
     },
     "metadata": {},
     "output_type": "display_data"
    },
    {
     "data": {
      "application/vnd.jupyter.widget-view+json": {
       "model_id": "2ef459b71fd6476eb765aab8d4db4f26",
       "version_major": 2,
       "version_minor": 0
      },
      "text/plain": [
       "HBox(children=(IntProgress(value=0, max=6), HTML(value='')))"
      ]
     },
     "metadata": {},
     "output_type": "display_data"
    },
    {
     "data": {
      "application/vnd.jupyter.widget-view+json": {
       "model_id": "eec8d92d376945e79bdd889b0b7ce109",
       "version_major": 2,
       "version_minor": 0
      },
      "text/plain": [
       "HBox(children=(IntProgress(value=0, max=13), HTML(value='')))"
      ]
     },
     "metadata": {},
     "output_type": "display_data"
    },
    {
     "data": {
      "application/vnd.jupyter.widget-view+json": {
       "model_id": "3b4041afb7a24baf85e96bb36970ce44",
       "version_major": 2,
       "version_minor": 0
      },
      "text/plain": [
       "HBox(children=(IntProgress(value=0, max=14), HTML(value='')))"
      ]
     },
     "metadata": {},
     "output_type": "display_data"
    },
    {
     "data": {
      "application/vnd.jupyter.widget-view+json": {
       "model_id": "c165f5cb286d479da9edd80c3bcf7a53",
       "version_major": 2,
       "version_minor": 0
      },
      "text/plain": [
       "HBox(children=(IntProgress(value=0, max=6), HTML(value='')))"
      ]
     },
     "metadata": {},
     "output_type": "display_data"
    },
    {
     "data": {
      "application/vnd.jupyter.widget-view+json": {
       "model_id": "8ed0ee56ffee4d0a8f494c24c6e68969",
       "version_major": 2,
       "version_minor": 0
      },
      "text/plain": [
       "HBox(children=(IntProgress(value=0, max=16), HTML(value='')))"
      ]
     },
     "metadata": {},
     "output_type": "display_data"
    },
    {
     "data": {
      "application/vnd.jupyter.widget-view+json": {
       "model_id": "496436274b6a498f953e73a237d0e53a",
       "version_major": 2,
       "version_minor": 0
      },
      "text/plain": [
       "HBox(children=(IntProgress(value=0, max=104), HTML(value='')))"
      ]
     },
     "metadata": {},
     "output_type": "display_data"
    },
    {
     "data": {
      "application/vnd.jupyter.widget-view+json": {
       "model_id": "33742f1d60954609907192dbe61e699a",
       "version_major": 2,
       "version_minor": 0
      },
      "text/plain": [
       "HBox(children=(IntProgress(value=0, max=16), HTML(value='')))"
      ]
     },
     "metadata": {},
     "output_type": "display_data"
    },
    {
     "data": {
      "application/vnd.jupyter.widget-view+json": {
       "model_id": "c9adb965fa1440b9bdef25e3c8d9d170",
       "version_major": 2,
       "version_minor": 0
      },
      "text/plain": [
       "HBox(children=(IntProgress(value=0, max=43), HTML(value='')))"
      ]
     },
     "metadata": {},
     "output_type": "display_data"
    },
    {
     "data": {
      "application/vnd.jupyter.widget-view+json": {
       "model_id": "2ca71384cddf465c8529d98c49576fc0",
       "version_major": 2,
       "version_minor": 0
      },
      "text/plain": [
       "HBox(children=(IntProgress(value=0, max=14), HTML(value='')))"
      ]
     },
     "metadata": {},
     "output_type": "display_data"
    },
    {
     "data": {
      "application/vnd.jupyter.widget-view+json": {
       "model_id": "4f9eb079ae274e668c8c4d0a0ba73870",
       "version_major": 2,
       "version_minor": 0
      },
      "text/plain": [
       "HBox(children=(IntProgress(value=0, max=24), HTML(value='')))"
      ]
     },
     "metadata": {},
     "output_type": "display_data"
    },
    {
     "data": {
      "application/vnd.jupyter.widget-view+json": {
       "model_id": "2a3d100f35844309be5d24589eba75b0",
       "version_major": 2,
       "version_minor": 0
      },
      "text/plain": [
       "HBox(children=(IntProgress(value=0, max=62), HTML(value='')))"
      ]
     },
     "metadata": {},
     "output_type": "display_data"
    },
    {
     "data": {
      "application/vnd.jupyter.widget-view+json": {
       "model_id": "0930d070942e4651bdd0bdd1285bc1ad",
       "version_major": 2,
       "version_minor": 0
      },
      "text/plain": [
       "HBox(children=(IntProgress(value=0, max=29), HTML(value='')))"
      ]
     },
     "metadata": {},
     "output_type": "display_data"
    },
    {
     "data": {
      "application/vnd.jupyter.widget-view+json": {
       "model_id": "91311831b28c4bb29f01e453e6b0f4f6",
       "version_major": 2,
       "version_minor": 0
      },
      "text/plain": [
       "HBox(children=(IntProgress(value=0, max=310), HTML(value='')))"
      ]
     },
     "metadata": {},
     "output_type": "display_data"
    },
    {
     "name": "stdout",
     "output_type": "stream",
     "text": [
      "\n"
     ]
    }
   ],
   "source": [
    "click.secho(\"Harvesting papers\", fg='yellow')\n",
    "references = harvest_papers_metadata(keywords, pmids, start_year, end_year, include_citing_papers=include_citing_papers)"
   ]
  },
  {
   "cell_type": "code",
   "execution_count": 5,
   "metadata": {},
   "outputs": [],
   "source": [
    "def get_paper_fulltext(reference, output_path):\n",
    "    if os.path.isfile(output_path + 'json/' + reference['id'] + '.json'):\n",
    "        with open(output_path + 'json/' + reference['id'] + '.json') as f:\n",
    "            reference = json.load(f)\n",
    "        return reference\n",
    "    reference['fullText'] = download_fulltext(reference, output_path)\n",
    "    return reference\n",
    "\n",
    "\n",
    "def annotate_reference(reference, output_path):\n",
    "    if os.path.isfile(output_path + 'json/' + reference['id'] + '.json'):\n",
    "        with open(output_path + 'json/' + reference['id'] + '.json') as f:\n",
    "            reference = json.load(f)\n",
    "        return reference\n",
    "    if reference['fullText'].strip() is not '':\n",
    "        reference['annotations'] = annotate_text(reference['fullText'].strip())\n",
    "    else:\n",
    "        text = reference['title']\n",
    "        text += reference['abstractText'] if 'abstractText' in reference else ''\n",
    "        reference['annotations'] = annotate_text(text)\n",
    "    with open(output_path + 'json/' + reference['id'] + '.json', 'w') as fp:\n",
    "        json.dump(reference, fp, default=default, indent=4, sort_keys=True)\n",
    "\n",
    "\n",
    "def default(o):\n",
    "    if type(o) is datetime.date or type(o) is datetime.datetime:\n",
    "        return o.isoformat()"
   ]
  },
  {
   "cell_type": "code",
   "execution_count": 6,
   "metadata": {},
   "outputs": [
    {
     "name": "stdout",
     "output_type": "stream",
     "text": [
      "Getting fulltext\n"
     ]
    },
    {
     "data": {
      "application/vnd.jupyter.widget-view+json": {
       "model_id": "fe077e1727a94c9498c99a566f233c36",
       "version_major": 2,
       "version_minor": 0
      },
      "text/plain": [
       "HBox(children=(IntProgress(value=0, max=3532), HTML(value='')))"
      ]
     },
     "metadata": {},
     "output_type": "display_data"
    },
    {
     "name": "stdout",
     "output_type": "stream",
     "text": [
      "\n"
     ]
    }
   ],
   "source": [
    "    click.secho(\"Getting fulltext\", fg='yellow')\n",
    "    references = Parallel(n_jobs=25)(delayed(get_paper_fulltext)(reference, output_path) for reference in tqdm(references))"
   ]
  },
  {
   "cell_type": "code",
   "execution_count": 5,
   "metadata": {},
   "outputs": [],
   "source": [
    "if not os.path.exists(output_path + 'json/'):\n",
    "    os.makedirs(output_path + 'json/')"
   ]
  },
  {
   "cell_type": "code",
   "execution_count": null,
   "metadata": {},
   "outputs": [
    {
     "name": "stdout",
     "output_type": "stream",
     "text": [
      "Annotating papers\n"
     ]
    },
    {
     "data": {
      "application/vnd.jupyter.widget-view+json": {
       "model_id": "094d2688a7b241e6a94ba217b464035f",
       "version_major": 2,
       "version_minor": 0
      },
      "text/plain": [
       "HBox(children=(IntProgress(value=0, max=3532), HTML(value='')))"
      ]
     },
     "metadata": {},
     "output_type": "display_data"
    },
    {
     "name": "stdout",
     "output_type": "stream",
     "text": [
      "\n"
     ]
    }
   ],
   "source": [
    "click.secho(\"Annotating papers\", fg='yellow')\n",
    "Parallel(n_jobs=25)(delayed(annotate_reference)(reference, output_path) for reference in tqdm(references))"
   ]
  },
  {
   "cell_type": "code",
   "execution_count": 6,
   "metadata": {},
   "outputs": [],
   "source": [
    "mongodb_access.save_directory(output_path + 'json/', 'publications', dataset_name, 'mongodb')"
   ]
  },
  {
   "cell_type": "markdown",
   "metadata": {},
   "source": [
    "## Análisis de redes"
   ]
  },
  {
   "cell_type": "markdown",
   "metadata": {},
   "source": []
  },
  {
   "cell_type": "code",
   "execution_count": 7,
   "metadata": {},
   "outputs": [],
   "source": [
    "if not os.path.exists(output_path + 'gt/'):\n",
    "    os.makedirs(output_path + 'gt/')"
   ]
  },
  {
   "cell_type": "markdown",
   "metadata": {},
   "source": [
    "### Generación Red de Co-autoría"
   ]
  },
  {
   "cell_type": "code",
   "execution_count": 16,
   "metadata": {},
   "outputs": [
    {
     "name": "stdout",
     "output_type": "stream",
     "text": [
      "   Generating network for range 2010-1 to 2010-1\n",
      "   Generating network for range 2010-1 to 2010-2\n",
      "   Generating network for range 2010-1 to 2010-3\n",
      "   Generating network for range 2010-1 to 2010-4\n",
      "   Generating network for range 2010-1 to 2010-5\n",
      "   Generating network for range 2010-1 to 2010-6\n",
      "   Generating network for range 2010-1 to 2010-7\n",
      "   Generating network for range 2010-1 to 2010-8\n",
      "   Generating network for range 2010-1 to 2010-9\n",
      "   Generating network for range 2010-1 to 2010-10\n",
      "   Generating network for range 2010-1 to 2010-11\n",
      "   Generating network for range 2010-1 to 2010-12\n",
      "   Generating network for range 2010-1 to 2011-1\n",
      "   Generating network for range 2010-1 to 2011-2\n",
      "   Generating network for range 2010-1 to 2011-3\n",
      "   Generating network for range 2010-1 to 2011-4\n",
      "   Generating network for range 2010-1 to 2011-5\n",
      "   Generating network for range 2010-1 to 2011-6\n",
      "   Generating network for range 2010-1 to 2011-7\n",
      "   Generating network for range 2010-1 to 2011-8\n",
      "   Generating network for range 2010-1 to 2011-9\n",
      "   Generating network for range 2010-1 to 2011-10\n",
      "   Generating network for range 2010-1 to 2011-11\n",
      "   Generating network for range 2010-1 to 2011-12\n",
      "   Generating network for range 2010-1 to 2012-1\n",
      "   Generating network for range 2010-1 to 2012-2\n",
      "   Generating network for range 2010-1 to 2012-3\n",
      "   Generating network for range 2010-1 to 2012-4\n",
      "   Generating network for range 2010-1 to 2012-5\n",
      "   Generating network for range 2010-1 to 2012-6\n",
      "   Generating network for range 2010-1 to 2012-7\n",
      "   Generating network for range 2010-1 to 2012-8\n",
      "   Generating network for range 2010-1 to 2012-9\n",
      "   Generating network for range 2010-1 to 2012-10\n",
      "   Generating network for range 2010-1 to 2012-11\n",
      "   Generating network for range 2010-1 to 2012-12\n",
      "   Generating network for range 2010-1 to 2013-1\n",
      "   Generating network for range 2010-1 to 2013-2\n",
      "   Generating network for range 2010-1 to 2013-3\n",
      "   Generating network for range 2010-1 to 2013-4\n",
      "   Generating network for range 2010-1 to 2013-5\n",
      "   Generating network for range 2010-1 to 2013-6\n",
      "   Generating network for range 2010-1 to 2013-7\n",
      "   Generating network for range 2010-1 to 2013-8\n",
      "   Generating network for range 2010-1 to 2013-9\n",
      "   Generating network for range 2010-1 to 2013-10\n",
      "   Generating network for range 2010-1 to 2013-11\n",
      "   Generating network for range 2010-1 to 2013-12\n",
      "   Generating network for range 2010-1 to 2014-1\n",
      "   Generating network for range 2010-1 to 2014-2\n",
      "   Generating network for range 2010-1 to 2014-3\n",
      "   Generating network for range 2010-1 to 2014-4\n",
      "   Generating network for range 2010-1 to 2014-5\n",
      "   Generating network for range 2010-1 to 2014-6\n",
      "   Generating network for range 2010-1 to 2014-7\n",
      "   Generating network for range 2010-1 to 2014-8\n",
      "   Generating network for range 2010-1 to 2014-9\n",
      "   Generating network for range 2010-1 to 2014-10\n",
      "   Generating network for range 2010-1 to 2014-11\n",
      "   Generating network for range 2010-1 to 2014-12\n",
      "   Generating network for range 2010-1 to 2015-1\n",
      "   Generating network for range 2010-1 to 2015-2\n",
      "   Generating network for range 2010-1 to 2015-3\n",
      "   Generating network for range 2010-1 to 2015-4\n",
      "   Generating network for range 2010-1 to 2015-5\n",
      "   Generating network for range 2010-1 to 2015-6\n",
      "   Generating network for range 2010-1 to 2015-7\n",
      "   Generating network for range 2010-1 to 2015-8\n",
      "   Generating network for range 2010-1 to 2015-9\n",
      "   Generating network for range 2010-1 to 2015-10\n",
      "   Generating network for range 2010-1 to 2015-11\n",
      "   Generating network for range 2010-1 to 2015-12\n",
      "   Generating network for range 2010-1 to 2016-1\n",
      "   Generating network for range 2010-1 to 2016-2\n",
      "   Generating network for range 2010-1 to 2016-3\n",
      "   Generating network for range 2010-1 to 2016-4\n",
      "   Generating network for range 2010-1 to 2016-5\n",
      "   Generating network for range 2010-1 to 2016-6\n",
      "   Generating network for range 2010-1 to 2016-7\n",
      "   Generating network for range 2010-1 to 2016-8\n",
      "   Generating network for range 2010-1 to 2016-9\n",
      "   Generating network for range 2010-1 to 2016-10\n",
      "   Generating network for range 2010-1 to 2016-11\n",
      "   Generating network for range 2010-1 to 2016-12\n",
      "   Generating network for range 2010-1 to 2017-1\n",
      "   Generating network for range 2010-1 to 2017-2\n",
      "   Generating network for range 2010-1 to 2017-3\n",
      "   Generating network for range 2010-1 to 2017-4\n",
      "   Generating network for range 2010-1 to 2017-5\n",
      "   Generating network for range 2010-1 to 2017-6\n",
      "   Generating network for range 2010-1 to 2017-7\n",
      "   Generating network for range 2010-1 to 2017-8\n",
      "   Generating network for range 2010-1 to 2017-9\n",
      "   Generating network for range 2010-1 to 2017-10\n",
      "   Generating network for range 2010-1 to 2017-11\n",
      "   Generating network for range 2010-1 to 2017-12\n",
      "   Generating network for range 2010-1 to 2018-1\n",
      "   Generating network for range 2010-1 to 2018-2\n",
      "   Generating network for range 2010-1 to 2018-3\n",
      "   Generating network for range 2010-1 to 2018-4\n",
      "   Generating network for range 2010-1 to 2018-5\n",
      "   Generating network for range 2010-1 to 2018-6\n",
      "   Generating network for range 2010-1 to 2018-7\n",
      "   Generating network for range 2010-1 to 2018-8\n",
      "   Generating network for range 2010-1 to 2018-9\n",
      "   Generating network for range 2010-1 to 2018-10\n",
      "   Generating network for range 2010-1 to 2018-11\n",
      "   Generating network for range 2010-1 to 2018-12\n"
     ]
    }
   ],
   "source": [
    "coauthorship_networks = generate_co_authorship_networks_incremental('', 'necroptosis', 2010, 2019, output_path=output_path + 'gt/',\n",
    "                                            mongo_config=mongo_config, save=True, use_cache=True)"
   ]
  },
  {
   "cell_type": "code",
   "execution_count": 17,
   "metadata": {},
   "outputs": [
    {
     "name": "stdout",
     "output_type": "stream",
     "text": [
      "       Getting degree histogram\n",
      "       Getting degree average\n",
      "       Getting edge count\n",
      "       Getting weight average\n",
      "       Getting edge weight histogram\n",
      "       Getting vertex count\n",
      "       Getting density\n",
      "       Getting clustering coefficient\n",
      "       Getting similarity year before\n",
      "   Analysing 2010-1 to 2010-9 network\n",
      "       Getting degree histogram\n",
      "       Getting degree average\n",
      "       Getting edge count\n",
      "       Getting weight average\n",
      "       Getting edge weight histogram\n",
      "       Getting vertex count\n",
      "       Getting density\n",
      "       Getting clustering coefficient\n",
      "       Getting similarity year before\n",
      "   Analysing 2010-1 to 2010-10 network\n",
      "       Getting degree histogram\n",
      "       Getting degree average\n",
      "       Getting edge count\n",
      "       Getting weight average\n",
      "       Getting edge weight histogram\n",
      "       Getting vertex count\n",
      "       Getting density\n",
      "       Getting clustering coefficient\n",
      "       Getting similarity year before\n",
      "   Analysing 2010-1 to 2010-11 network\n",
      "       Getting degree histogram\n",
      "       Getting degree average\n",
      "       Getting edge count\n",
      "       Getting weight average\n",
      "       Getting edge weight histogram\n",
      "       Getting vertex count\n",
      "       Getting density\n",
      "       Getting clustering coefficient\n",
      "       Getting similarity year before\n",
      "   Analysing 2010-1 to 2010-12 network\n",
      "       Getting degree histogram\n",
      "       Getting degree average\n",
      "       Getting edge count\n",
      "       Getting weight average\n",
      "       Getting edge weight histogram\n",
      "       Getting vertex count\n",
      "       Getting density\n",
      "       Getting clustering coefficient\n",
      "       Getting similarity year before\n",
      "   Analysing 2010-1 to 2011-1 network\n",
      "       Getting degree histogram\n",
      "       Getting degree average\n",
      "       Getting edge count\n",
      "       Getting weight average\n",
      "       Getting edge weight histogram\n",
      "       Getting vertex count\n",
      "       Getting density\n",
      "       Getting clustering coefficient\n",
      "       Getting similarity year before\n",
      "   Analysing 2010-1 to 2011-2 network\n",
      "       Getting degree histogram\n",
      "       Getting degree average\n",
      "       Getting edge count\n",
      "       Getting weight average\n",
      "       Getting edge weight histogram\n",
      "       Getting vertex count\n",
      "       Getting density\n",
      "       Getting clustering coefficient\n",
      "       Getting similarity year before\n",
      "   Analysing 2010-1 to 2011-3 network\n",
      "       Getting degree histogram\n",
      "       Getting degree average\n",
      "       Getting edge count\n",
      "       Getting weight average\n",
      "       Getting edge weight histogram\n",
      "       Getting vertex count\n",
      "       Getting density\n",
      "       Getting clustering coefficient\n",
      "       Getting similarity year before\n",
      "   Analysing 2010-1 to 2011-4 network\n",
      "       Getting degree histogram\n",
      "       Getting degree average\n",
      "       Getting edge count\n",
      "       Getting weight average\n",
      "       Getting edge weight histogram\n",
      "       Getting vertex count\n",
      "       Getting density\n",
      "       Getting clustering coefficient\n",
      "       Getting similarity year before\n",
      "   Analysing 2010-1 to 2011-5 network\n",
      "       Getting degree histogram\n",
      "       Getting degree average\n",
      "       Getting edge count\n",
      "       Getting weight average\n",
      "       Getting edge weight histogram\n",
      "       Getting vertex count\n",
      "       Getting density\n",
      "       Getting clustering coefficient\n",
      "       Getting similarity year before\n",
      "   Analysing 2010-1 to 2011-6 network\n",
      "       Getting degree histogram\n",
      "       Getting degree average\n",
      "       Getting edge count\n",
      "       Getting weight average\n",
      "       Getting edge weight histogram\n",
      "       Getting vertex count\n",
      "       Getting density\n",
      "       Getting clustering coefficient\n",
      "       Getting similarity year before\n",
      "   Analysing 2010-1 to 2011-7 network\n",
      "       Getting degree histogram\n",
      "       Getting degree average\n",
      "       Getting edge count\n",
      "       Getting weight average\n",
      "       Getting edge weight histogram\n",
      "       Getting vertex count\n",
      "       Getting density\n",
      "       Getting clustering coefficient\n",
      "       Getting similarity year before\n",
      "   Analysing 2010-1 to 2011-8 network\n",
      "       Getting degree histogram\n",
      "       Getting degree average\n",
      "       Getting edge count\n",
      "       Getting weight average\n",
      "       Getting edge weight histogram\n",
      "       Getting vertex count\n",
      "       Getting density\n",
      "       Getting clustering coefficient\n",
      "       Getting similarity year before\n",
      "   Analysing 2010-1 to 2011-9 network\n",
      "       Getting degree histogram\n",
      "       Getting degree average\n",
      "       Getting edge count\n",
      "       Getting weight average\n",
      "       Getting edge weight histogram\n",
      "       Getting vertex count\n",
      "       Getting density\n",
      "       Getting clustering coefficient\n",
      "       Getting similarity year before\n",
      "   Analysing 2010-1 to 2011-10 network\n",
      "       Getting degree histogram\n",
      "       Getting degree average\n",
      "       Getting edge count\n",
      "       Getting weight average\n",
      "       Getting edge weight histogram\n",
      "       Getting vertex count\n",
      "       Getting density\n",
      "       Getting clustering coefficient\n",
      "       Getting similarity year before\n",
      "   Analysing 2010-1 to 2011-11 network\n",
      "       Getting degree histogram\n",
      "       Getting degree average\n",
      "       Getting edge count\n",
      "       Getting weight average\n",
      "       Getting edge weight histogram\n",
      "       Getting vertex count\n",
      "       Getting density\n",
      "       Getting clustering coefficient\n",
      "       Getting similarity year before\n",
      "   Analysing 2010-1 to 2011-12 network\n",
      "       Getting degree histogram\n",
      "       Getting degree average\n",
      "       Getting edge count\n",
      "       Getting weight average\n",
      "       Getting edge weight histogram\n",
      "       Getting vertex count\n",
      "       Getting density\n",
      "       Getting clustering coefficient\n",
      "       Getting similarity year before\n",
      "   Analysing 2010-1 to 2012-1 network\n",
      "       Getting degree histogram\n",
      "       Getting degree average\n",
      "       Getting edge count\n",
      "       Getting weight average\n",
      "       Getting edge weight histogram\n",
      "       Getting vertex count\n",
      "       Getting density\n",
      "       Getting clustering coefficient\n",
      "       Getting similarity year before\n",
      "   Analysing 2010-1 to 2012-2 network\n",
      "       Getting degree histogram\n",
      "       Getting degree average\n",
      "       Getting edge count\n",
      "       Getting weight average\n",
      "       Getting edge weight histogram\n",
      "       Getting vertex count\n",
      "       Getting density\n",
      "       Getting clustering coefficient\n",
      "       Getting similarity year before\n",
      "   Analysing 2010-1 to 2012-3 network\n",
      "       Getting degree histogram\n",
      "       Getting degree average\n",
      "       Getting edge count\n",
      "       Getting weight average\n",
      "       Getting edge weight histogram\n",
      "       Getting vertex count\n",
      "       Getting density\n",
      "       Getting clustering coefficient\n",
      "       Getting similarity year before\n",
      "   Analysing 2010-1 to 2012-4 network\n",
      "       Getting degree histogram\n",
      "       Getting degree average\n",
      "       Getting edge count\n",
      "       Getting weight average\n",
      "       Getting edge weight histogram\n",
      "       Getting vertex count\n",
      "       Getting density\n",
      "       Getting clustering coefficient\n",
      "       Getting similarity year before\n",
      "   Analysing 2010-1 to 2012-5 network\n",
      "       Getting degree histogram\n",
      "       Getting degree average\n",
      "       Getting edge count\n",
      "       Getting weight average\n",
      "       Getting edge weight histogram\n",
      "       Getting vertex count\n",
      "       Getting density\n",
      "       Getting clustering coefficient\n",
      "       Getting similarity year before\n",
      "   Analysing 2010-1 to 2012-6 network\n",
      "       Getting degree histogram\n",
      "       Getting degree average\n",
      "       Getting edge count\n",
      "       Getting weight average\n",
      "       Getting edge weight histogram\n",
      "       Getting vertex count\n",
      "       Getting density\n",
      "       Getting clustering coefficient\n",
      "       Getting similarity year before\n",
      "   Analysing 2010-1 to 2012-7 network\n",
      "       Getting degree histogram\n",
      "       Getting degree average\n",
      "       Getting edge count\n",
      "       Getting weight average\n",
      "       Getting edge weight histogram\n",
      "       Getting vertex count\n",
      "       Getting density\n",
      "       Getting clustering coefficient\n",
      "       Getting similarity year before\n",
      "   Analysing 2010-1 to 2012-8 network\n",
      "       Getting degree histogram\n",
      "       Getting degree average\n",
      "       Getting edge count\n",
      "       Getting weight average\n",
      "       Getting edge weight histogram\n",
      "       Getting vertex count\n",
      "       Getting density\n",
      "       Getting clustering coefficient\n",
      "       Getting similarity year before\n",
      "   Analysing 2010-1 to 2012-9 network\n",
      "       Getting degree histogram\n",
      "       Getting degree average\n",
      "       Getting edge count\n",
      "       Getting weight average\n",
      "       Getting edge weight histogram\n",
      "       Getting vertex count\n",
      "       Getting density\n"
     ]
    },
    {
     "name": "stdout",
     "output_type": "stream",
     "text": [
      "       Getting clustering coefficient\n",
      "       Getting similarity year before\n",
      "   Analysing 2010-1 to 2012-10 network\n",
      "       Getting degree histogram\n",
      "       Getting degree average\n",
      "       Getting edge count\n",
      "       Getting weight average\n",
      "       Getting edge weight histogram\n",
      "       Getting vertex count\n",
      "       Getting density\n",
      "       Getting clustering coefficient\n",
      "       Getting similarity year before\n",
      "   Analysing 2010-1 to 2012-11 network\n",
      "       Getting degree histogram\n",
      "       Getting degree average\n",
      "       Getting edge count\n",
      "       Getting weight average\n",
      "       Getting edge weight histogram\n",
      "       Getting vertex count\n",
      "       Getting density\n",
      "       Getting clustering coefficient\n",
      "       Getting similarity year before\n",
      "   Analysing 2010-1 to 2012-12 network\n",
      "       Getting degree histogram\n",
      "       Getting degree average\n",
      "       Getting edge count\n",
      "       Getting weight average\n",
      "       Getting edge weight histogram\n",
      "       Getting vertex count\n",
      "       Getting density\n",
      "       Getting clustering coefficient\n",
      "       Getting similarity year before\n",
      "   Analysing 2010-1 to 2013-1 network\n",
      "       Getting degree histogram\n",
      "       Getting degree average\n",
      "       Getting edge count\n",
      "       Getting weight average\n",
      "       Getting edge weight histogram\n",
      "       Getting vertex count\n",
      "       Getting density\n",
      "       Getting clustering coefficient\n",
      "       Getting similarity year before\n",
      "   Analysing 2010-1 to 2013-2 network\n",
      "       Getting degree histogram\n",
      "       Getting degree average\n",
      "       Getting edge count\n",
      "       Getting weight average\n",
      "       Getting edge weight histogram\n",
      "       Getting vertex count\n",
      "       Getting density\n",
      "       Getting clustering coefficient\n",
      "       Getting similarity year before\n",
      "   Analysing 2010-1 to 2013-3 network\n",
      "       Getting degree histogram\n",
      "       Getting degree average\n",
      "       Getting edge count\n",
      "       Getting weight average\n",
      "       Getting edge weight histogram\n",
      "       Getting vertex count\n",
      "       Getting density\n",
      "       Getting clustering coefficient\n",
      "       Getting similarity year before\n",
      "   Analysing 2010-1 to 2013-4 network\n",
      "       Getting degree histogram\n",
      "       Getting degree average\n",
      "       Getting edge count\n",
      "       Getting weight average\n",
      "       Getting edge weight histogram\n",
      "       Getting vertex count\n",
      "       Getting density\n",
      "       Getting clustering coefficient\n",
      "       Getting similarity year before\n",
      "   Analysing 2010-1 to 2013-5 network\n",
      "       Getting degree histogram\n",
      "       Getting degree average\n",
      "       Getting edge count\n",
      "       Getting weight average\n",
      "       Getting edge weight histogram\n",
      "       Getting vertex count\n",
      "       Getting density\n",
      "       Getting clustering coefficient\n",
      "       Getting similarity year before\n",
      "   Analysing 2010-1 to 2013-6 network\n",
      "       Getting degree histogram\n",
      "       Getting degree average\n",
      "       Getting edge count\n",
      "       Getting weight average\n",
      "       Getting edge weight histogram\n",
      "       Getting vertex count\n",
      "       Getting density\n",
      "       Getting clustering coefficient\n",
      "       Getting similarity year before\n",
      "   Analysing 2010-1 to 2013-7 network\n",
      "       Getting degree histogram\n",
      "       Getting degree average\n",
      "       Getting edge count\n",
      "       Getting weight average\n",
      "       Getting edge weight histogram\n",
      "       Getting vertex count\n",
      "       Getting density\n",
      "       Getting clustering coefficient\n",
      "       Getting similarity year before\n",
      "   Analysing 2010-1 to 2013-8 network\n",
      "       Getting degree histogram\n",
      "       Getting degree average\n",
      "       Getting edge count\n",
      "       Getting weight average\n",
      "       Getting edge weight histogram\n",
      "       Getting vertex count\n",
      "       Getting density\n",
      "       Getting clustering coefficient\n",
      "       Getting similarity year before\n",
      "   Analysing 2010-1 to 2013-9 network\n",
      "       Getting degree histogram\n",
      "       Getting degree average\n",
      "       Getting edge count\n",
      "       Getting weight average\n",
      "       Getting edge weight histogram\n",
      "       Getting vertex count\n",
      "       Getting density\n",
      "       Getting clustering coefficient\n",
      "       Getting similarity year before\n",
      "   Analysing 2010-1 to 2013-10 network\n",
      "       Getting degree histogram\n",
      "       Getting degree average\n",
      "       Getting edge count\n",
      "       Getting weight average\n",
      "       Getting edge weight histogram\n",
      "       Getting vertex count\n",
      "       Getting density\n",
      "       Getting clustering coefficient\n",
      "       Getting similarity year before\n",
      "   Analysing 2010-1 to 2013-11 network\n",
      "       Getting degree histogram\n",
      "       Getting degree average\n",
      "       Getting edge count\n",
      "       Getting weight average\n",
      "       Getting edge weight histogram\n",
      "       Getting vertex count\n",
      "       Getting density\n",
      "       Getting clustering coefficient\n",
      "       Getting similarity year before\n",
      "   Analysing 2010-1 to 2013-12 network\n",
      "       Getting degree histogram\n",
      "       Getting degree average\n",
      "       Getting edge count\n",
      "       Getting weight average\n",
      "       Getting edge weight histogram\n",
      "       Getting vertex count\n",
      "       Getting density\n",
      "       Getting clustering coefficient\n",
      "       Getting similarity year before\n",
      "   Analysing 2010-1 to 2014-1 network\n",
      "       Getting degree histogram\n",
      "       Getting degree average\n",
      "       Getting edge count\n",
      "       Getting weight average\n",
      "       Getting edge weight histogram\n",
      "       Getting vertex count\n",
      "       Getting density\n",
      "       Getting clustering coefficient\n",
      "       Getting similarity year before\n",
      "   Analysing 2010-1 to 2014-2 network\n",
      "       Getting degree histogram\n",
      "       Getting degree average\n",
      "       Getting edge count\n",
      "       Getting weight average\n",
      "       Getting edge weight histogram\n",
      "       Getting vertex count\n",
      "       Getting density\n",
      "       Getting clustering coefficient\n",
      "       Getting similarity year before\n",
      "   Analysing 2010-1 to 2014-3 network\n",
      "       Getting degree histogram\n",
      "       Getting degree average\n",
      "       Getting edge count\n",
      "       Getting weight average\n",
      "       Getting edge weight histogram\n",
      "       Getting vertex count\n",
      "       Getting density\n",
      "       Getting clustering coefficient\n",
      "       Getting similarity year before\n",
      "   Analysing 2010-1 to 2014-4 network\n",
      "       Getting degree histogram\n",
      "       Getting degree average\n",
      "       Getting edge count\n",
      "       Getting weight average\n",
      "       Getting edge weight histogram\n",
      "       Getting vertex count\n",
      "       Getting density\n",
      "       Getting clustering coefficient\n",
      "       Getting similarity year before\n",
      "   Analysing 2010-1 to 2014-5 network\n",
      "       Getting degree histogram\n",
      "       Getting degree average\n",
      "       Getting edge count\n",
      "       Getting weight average\n",
      "       Getting edge weight histogram\n",
      "       Getting vertex count\n",
      "       Getting density\n",
      "       Getting clustering coefficient\n",
      "       Getting similarity year before\n",
      "   Analysing 2010-1 to 2014-6 network\n",
      "       Getting degree histogram\n",
      "       Getting degree average\n",
      "       Getting edge count\n",
      "       Getting weight average\n",
      "       Getting edge weight histogram\n",
      "       Getting vertex count\n",
      "       Getting density\n",
      "       Getting clustering coefficient\n",
      "       Getting similarity year before\n",
      "   Analysing 2010-1 to 2014-7 network\n",
      "       Getting degree histogram\n",
      "       Getting degree average\n",
      "       Getting edge count\n",
      "       Getting weight average\n",
      "       Getting edge weight histogram\n",
      "       Getting vertex count\n",
      "       Getting density\n",
      "       Getting clustering coefficient\n",
      "       Getting similarity year before\n",
      "   Analysing 2010-1 to 2014-8 network\n",
      "       Getting degree histogram\n",
      "       Getting degree average\n",
      "       Getting edge count\n",
      "       Getting weight average\n",
      "       Getting edge weight histogram\n",
      "       Getting vertex count\n",
      "       Getting density\n",
      "       Getting clustering coefficient\n",
      "       Getting similarity year before\n",
      "   Analysing 2010-1 to 2014-9 network\n",
      "       Getting degree histogram\n",
      "       Getting degree average\n",
      "       Getting edge count\n",
      "       Getting weight average\n",
      "       Getting edge weight histogram\n",
      "       Getting vertex count\n",
      "       Getting density\n",
      "       Getting clustering coefficient\n",
      "       Getting similarity year before\n",
      "   Analysing 2010-1 to 2014-10 network\n",
      "       Getting degree histogram\n",
      "       Getting degree average\n",
      "       Getting edge count\n",
      "       Getting weight average\n",
      "       Getting edge weight histogram\n",
      "       Getting vertex count\n",
      "       Getting density\n",
      "       Getting clustering coefficient\n",
      "       Getting similarity year before\n",
      "   Analysing 2010-1 to 2014-11 network\n",
      "       Getting degree histogram\n",
      "       Getting degree average\n",
      "       Getting edge count\n"
     ]
    },
    {
     "name": "stdout",
     "output_type": "stream",
     "text": [
      "       Getting weight average\n",
      "       Getting edge weight histogram\n",
      "       Getting vertex count\n",
      "       Getting density\n",
      "       Getting clustering coefficient\n",
      "       Getting similarity year before\n",
      "   Analysing 2010-1 to 2014-12 network\n",
      "       Getting degree histogram\n",
      "       Getting degree average\n",
      "       Getting edge count\n",
      "       Getting weight average\n",
      "       Getting edge weight histogram\n",
      "       Getting vertex count\n",
      "       Getting density\n",
      "       Getting clustering coefficient\n",
      "       Getting similarity year before\n",
      "   Analysing 2010-1 to 2015-1 network\n",
      "       Getting degree histogram\n",
      "       Getting degree average\n",
      "       Getting edge count\n",
      "       Getting weight average\n",
      "       Getting edge weight histogram\n",
      "       Getting vertex count\n",
      "       Getting density\n",
      "       Getting clustering coefficient\n",
      "       Getting similarity year before\n",
      "   Analysing 2010-1 to 2015-2 network\n",
      "       Getting degree histogram\n",
      "       Getting degree average\n",
      "       Getting edge count\n",
      "       Getting weight average\n",
      "       Getting edge weight histogram\n",
      "       Getting vertex count\n",
      "       Getting density\n",
      "       Getting clustering coefficient\n",
      "       Getting similarity year before\n",
      "   Analysing 2010-1 to 2015-3 network\n",
      "       Getting degree histogram\n",
      "       Getting degree average\n",
      "       Getting edge count\n",
      "       Getting weight average\n",
      "       Getting edge weight histogram\n",
      "       Getting vertex count\n",
      "       Getting density\n",
      "       Getting clustering coefficient\n",
      "       Getting similarity year before\n",
      "   Analysing 2010-1 to 2015-4 network\n",
      "       Getting degree histogram\n",
      "       Getting degree average\n",
      "       Getting edge count\n",
      "       Getting weight average\n",
      "       Getting edge weight histogram\n",
      "       Getting vertex count\n",
      "       Getting density\n",
      "       Getting clustering coefficient\n",
      "       Getting similarity year before\n",
      "   Analysing 2010-1 to 2015-5 network\n",
      "       Getting degree histogram\n",
      "       Getting degree average\n",
      "       Getting edge count\n",
      "       Getting weight average\n",
      "       Getting edge weight histogram\n",
      "       Getting vertex count\n",
      "       Getting density\n",
      "       Getting clustering coefficient\n",
      "       Getting similarity year before\n",
      "   Analysing 2010-1 to 2015-6 network\n",
      "       Getting degree histogram\n",
      "       Getting degree average\n",
      "       Getting edge count\n",
      "       Getting weight average\n",
      "       Getting edge weight histogram\n",
      "       Getting vertex count\n",
      "       Getting density\n",
      "       Getting clustering coefficient\n",
      "       Getting similarity year before\n",
      "   Analysing 2010-1 to 2015-7 network\n",
      "       Getting degree histogram\n",
      "       Getting degree average\n",
      "       Getting edge count\n",
      "       Getting weight average\n",
      "       Getting edge weight histogram\n",
      "       Getting vertex count\n",
      "       Getting density\n",
      "       Getting clustering coefficient\n",
      "       Getting similarity year before\n",
      "   Analysing 2010-1 to 2015-8 network\n",
      "       Getting degree histogram\n",
      "       Getting degree average\n",
      "       Getting edge count\n",
      "       Getting weight average\n",
      "       Getting edge weight histogram\n",
      "       Getting vertex count\n",
      "       Getting density\n",
      "       Getting clustering coefficient\n",
      "       Getting similarity year before\n",
      "   Analysing 2010-1 to 2015-9 network\n",
      "       Getting degree histogram\n",
      "       Getting degree average\n",
      "       Getting edge count\n",
      "       Getting weight average\n",
      "       Getting edge weight histogram\n",
      "       Getting vertex count\n",
      "       Getting density\n",
      "       Getting clustering coefficient\n",
      "       Getting similarity year before\n",
      "   Analysing 2010-1 to 2015-10 network\n",
      "       Getting degree histogram\n",
      "       Getting degree average\n",
      "       Getting edge count\n",
      "       Getting weight average\n",
      "       Getting edge weight histogram\n",
      "       Getting vertex count\n",
      "       Getting density\n",
      "       Getting clustering coefficient\n",
      "       Getting similarity year before\n",
      "   Analysing 2010-1 to 2015-11 network\n",
      "       Getting degree histogram\n",
      "       Getting degree average\n",
      "       Getting edge count\n",
      "       Getting weight average\n",
      "       Getting edge weight histogram\n",
      "       Getting vertex count\n",
      "       Getting density\n",
      "       Getting clustering coefficient\n",
      "       Getting similarity year before\n",
      "   Analysing 2010-1 to 2015-12 network\n",
      "       Getting degree histogram\n",
      "       Getting degree average\n",
      "       Getting edge count\n",
      "       Getting weight average\n",
      "       Getting edge weight histogram\n",
      "       Getting vertex count\n",
      "       Getting density\n",
      "       Getting clustering coefficient\n",
      "       Getting similarity year before\n",
      "   Analysing 2010-1 to 2016-1 network\n",
      "       Getting degree histogram\n",
      "       Getting degree average\n",
      "       Getting edge count\n",
      "       Getting weight average\n",
      "       Getting edge weight histogram\n",
      "       Getting vertex count\n",
      "       Getting density\n",
      "       Getting clustering coefficient\n",
      "       Getting similarity year before\n",
      "   Analysing 2010-1 to 2016-2 network\n",
      "       Getting degree histogram\n",
      "       Getting degree average\n",
      "       Getting edge count\n",
      "       Getting weight average\n",
      "       Getting edge weight histogram\n",
      "       Getting vertex count\n",
      "       Getting density\n",
      "       Getting clustering coefficient\n",
      "       Getting similarity year before\n",
      "   Analysing 2010-1 to 2016-3 network\n",
      "       Getting degree histogram\n",
      "       Getting degree average\n",
      "       Getting edge count\n",
      "       Getting weight average\n",
      "       Getting edge weight histogram\n",
      "       Getting vertex count\n",
      "       Getting density\n",
      "       Getting clustering coefficient\n",
      "       Getting similarity year before\n",
      "   Analysing 2010-1 to 2016-4 network\n",
      "       Getting degree histogram\n",
      "       Getting degree average\n",
      "       Getting edge count\n",
      "       Getting weight average\n",
      "       Getting edge weight histogram\n",
      "       Getting vertex count\n",
      "       Getting density\n",
      "       Getting clustering coefficient\n",
      "       Getting similarity year before\n",
      "   Analysing 2010-1 to 2016-5 network\n",
      "       Getting degree histogram\n",
      "       Getting degree average\n",
      "       Getting edge count\n",
      "       Getting weight average\n",
      "       Getting edge weight histogram\n",
      "       Getting vertex count\n",
      "       Getting density\n",
      "       Getting clustering coefficient\n",
      "       Getting similarity year before\n",
      "   Analysing 2010-1 to 2016-6 network\n",
      "       Getting degree histogram\n",
      "       Getting degree average\n",
      "       Getting edge count\n",
      "       Getting weight average\n",
      "       Getting edge weight histogram\n",
      "       Getting vertex count\n",
      "       Getting density\n",
      "       Getting clustering coefficient\n",
      "       Getting similarity year before\n",
      "   Analysing 2010-1 to 2016-7 network\n",
      "       Getting degree histogram\n",
      "       Getting degree average\n",
      "       Getting edge count\n",
      "       Getting weight average\n",
      "       Getting edge weight histogram\n",
      "       Getting vertex count\n",
      "       Getting density\n",
      "       Getting clustering coefficient\n",
      "       Getting similarity year before\n",
      "   Analysing 2010-1 to 2016-8 network\n",
      "       Getting degree histogram\n",
      "       Getting degree average\n",
      "       Getting edge count\n",
      "       Getting weight average\n",
      "       Getting edge weight histogram\n",
      "       Getting vertex count\n",
      "       Getting density\n",
      "       Getting clustering coefficient\n",
      "       Getting similarity year before\n",
      "   Analysing 2010-1 to 2016-9 network\n",
      "       Getting degree histogram\n",
      "       Getting degree average\n",
      "       Getting edge count\n",
      "       Getting weight average\n",
      "       Getting edge weight histogram\n",
      "       Getting vertex count\n",
      "       Getting density\n",
      "       Getting clustering coefficient\n",
      "       Getting similarity year before\n",
      "   Analysing 2010-1 to 2016-10 network\n",
      "       Getting degree histogram\n",
      "       Getting degree average\n",
      "       Getting edge count\n",
      "       Getting weight average\n",
      "       Getting edge weight histogram\n",
      "       Getting vertex count\n",
      "       Getting density\n",
      "       Getting clustering coefficient\n",
      "       Getting similarity year before\n",
      "   Analysing 2010-1 to 2016-11 network\n",
      "       Getting degree histogram\n",
      "       Getting degree average\n",
      "       Getting edge count\n",
      "       Getting weight average\n",
      "       Getting edge weight histogram\n",
      "       Getting vertex count\n",
      "       Getting density\n",
      "       Getting clustering coefficient\n",
      "       Getting similarity year before\n",
      "   Analysing 2010-1 to 2016-12 network\n",
      "       Getting degree histogram\n",
      "       Getting degree average\n",
      "       Getting edge count\n",
      "       Getting weight average\n",
      "       Getting edge weight histogram\n",
      "       Getting vertex count\n",
      "       Getting density\n",
      "       Getting clustering coefficient\n",
      "       Getting similarity year before\n"
     ]
    },
    {
     "name": "stdout",
     "output_type": "stream",
     "text": [
      "   Analysing 2010-1 to 2017-1 network\n",
      "       Getting degree histogram\n",
      "       Getting degree average\n",
      "       Getting edge count\n",
      "       Getting weight average\n",
      "       Getting edge weight histogram\n",
      "       Getting vertex count\n",
      "       Getting density\n",
      "       Getting clustering coefficient\n",
      "       Getting similarity year before\n",
      "   Analysing 2010-1 to 2017-2 network\n",
      "       Getting degree histogram\n",
      "       Getting degree average\n",
      "       Getting edge count\n",
      "       Getting weight average\n",
      "       Getting edge weight histogram\n",
      "       Getting vertex count\n",
      "       Getting density\n",
      "       Getting clustering coefficient\n",
      "       Getting similarity year before\n",
      "   Analysing 2010-1 to 2017-3 network\n",
      "       Getting degree histogram\n",
      "       Getting degree average\n",
      "       Getting edge count\n",
      "       Getting weight average\n",
      "       Getting edge weight histogram\n",
      "       Getting vertex count\n",
      "       Getting density\n",
      "       Getting clustering coefficient\n",
      "       Getting similarity year before\n",
      "   Analysing 2010-1 to 2017-4 network\n",
      "       Getting degree histogram\n",
      "       Getting degree average\n",
      "       Getting edge count\n",
      "       Getting weight average\n",
      "       Getting edge weight histogram\n",
      "       Getting vertex count\n",
      "       Getting density\n",
      "       Getting clustering coefficient\n",
      "       Getting similarity year before\n",
      "   Analysing 2010-1 to 2017-5 network\n",
      "       Getting degree histogram\n",
      "       Getting degree average\n",
      "       Getting edge count\n",
      "       Getting weight average\n",
      "       Getting edge weight histogram\n",
      "       Getting vertex count\n",
      "       Getting density\n",
      "       Getting clustering coefficient\n",
      "       Getting similarity year before\n",
      "   Analysing 2010-1 to 2017-6 network\n",
      "       Getting degree histogram\n",
      "       Getting degree average\n",
      "       Getting edge count\n",
      "       Getting weight average\n",
      "       Getting edge weight histogram\n",
      "       Getting vertex count\n",
      "       Getting density\n",
      "       Getting clustering coefficient\n",
      "       Getting similarity year before\n",
      "   Analysing 2010-1 to 2017-7 network\n",
      "       Getting degree histogram\n",
      "       Getting degree average\n",
      "       Getting edge count\n",
      "       Getting weight average\n",
      "       Getting edge weight histogram\n",
      "       Getting vertex count\n",
      "       Getting density\n",
      "       Getting clustering coefficient\n",
      "       Getting similarity year before\n",
      "   Analysing 2010-1 to 2017-8 network\n",
      "       Getting degree histogram\n",
      "       Getting degree average\n",
      "       Getting edge count\n",
      "       Getting weight average\n",
      "       Getting edge weight histogram\n",
      "       Getting vertex count\n",
      "       Getting density\n",
      "       Getting clustering coefficient\n",
      "       Getting similarity year before\n",
      "   Analysing 2010-1 to 2017-9 network\n",
      "       Getting degree histogram\n",
      "       Getting degree average\n",
      "       Getting edge count\n",
      "       Getting weight average\n",
      "       Getting edge weight histogram\n",
      "       Getting vertex count\n",
      "       Getting density\n",
      "       Getting clustering coefficient\n",
      "       Getting similarity year before\n",
      "   Analysing 2010-1 to 2017-10 network\n",
      "       Getting degree histogram\n",
      "       Getting degree average\n",
      "       Getting edge count\n",
      "       Getting weight average\n",
      "       Getting edge weight histogram\n",
      "       Getting vertex count\n",
      "       Getting density\n",
      "       Getting clustering coefficient\n",
      "       Getting similarity year before\n",
      "   Analysing 2010-1 to 2017-11 network\n",
      "       Getting degree histogram\n",
      "       Getting degree average\n",
      "       Getting edge count\n",
      "       Getting weight average\n",
      "       Getting edge weight histogram\n",
      "       Getting vertex count\n",
      "       Getting density\n",
      "       Getting clustering coefficient\n",
      "       Getting similarity year before\n",
      "   Analysing 2010-1 to 2017-12 network\n",
      "       Getting degree histogram\n",
      "       Getting degree average\n",
      "       Getting edge count\n",
      "       Getting weight average\n",
      "       Getting edge weight histogram\n",
      "       Getting vertex count\n",
      "       Getting density\n",
      "       Getting clustering coefficient\n",
      "       Getting similarity year before\n",
      "   Analysing 2010-1 to 2018-1 network\n",
      "       Getting degree histogram\n",
      "       Getting degree average\n",
      "       Getting edge count\n",
      "       Getting weight average\n",
      "       Getting edge weight histogram\n",
      "       Getting vertex count\n",
      "       Getting density\n",
      "       Getting clustering coefficient\n",
      "       Getting similarity year before\n",
      "   Analysing 2010-1 to 2018-2 network\n",
      "       Getting degree histogram\n",
      "       Getting degree average\n",
      "       Getting edge count\n",
      "       Getting weight average\n",
      "       Getting edge weight histogram\n",
      "       Getting vertex count\n",
      "       Getting density\n",
      "       Getting clustering coefficient\n",
      "       Getting similarity year before\n",
      "   Analysing 2010-1 to 2018-3 network\n",
      "       Getting degree histogram\n",
      "       Getting degree average\n",
      "       Getting edge count\n",
      "       Getting weight average\n",
      "       Getting edge weight histogram\n",
      "       Getting vertex count\n",
      "       Getting density\n",
      "       Getting clustering coefficient\n",
      "       Getting similarity year before\n",
      "   Analysing 2010-1 to 2018-4 network\n",
      "       Getting degree histogram\n",
      "       Getting degree average\n",
      "       Getting edge count\n",
      "       Getting weight average\n",
      "       Getting edge weight histogram\n",
      "       Getting vertex count\n",
      "       Getting density\n",
      "       Getting clustering coefficient\n",
      "       Getting similarity year before\n",
      "   Analysing 2010-1 to 2018-5 network\n",
      "       Getting degree histogram\n",
      "       Getting degree average\n",
      "       Getting edge count\n",
      "       Getting weight average\n",
      "       Getting edge weight histogram\n",
      "       Getting vertex count\n",
      "       Getting density\n",
      "       Getting clustering coefficient\n",
      "       Getting similarity year before\n",
      "   Analysing 2010-1 to 2018-6 network\n",
      "       Getting degree histogram\n",
      "       Getting degree average\n",
      "       Getting edge count\n",
      "       Getting weight average\n",
      "       Getting edge weight histogram\n",
      "       Getting vertex count\n",
      "       Getting density\n",
      "       Getting clustering coefficient\n",
      "       Getting similarity year before\n",
      "   Analysing 2010-1 to 2018-7 network\n",
      "       Getting degree histogram\n",
      "       Getting degree average\n",
      "       Getting edge count\n",
      "       Getting weight average\n",
      "       Getting edge weight histogram\n",
      "       Getting vertex count\n",
      "       Getting density\n",
      "       Getting clustering coefficient\n",
      "       Getting similarity year before\n",
      "   Analysing 2010-1 to 2018-8 network\n",
      "       Getting degree histogram\n",
      "       Getting degree average\n",
      "       Getting edge count\n",
      "       Getting weight average\n",
      "       Getting edge weight histogram\n",
      "       Getting vertex count\n",
      "       Getting density\n",
      "       Getting clustering coefficient\n",
      "       Getting similarity year before\n",
      "   Analysing 2010-1 to 2018-9 network\n",
      "       Getting degree histogram\n",
      "       Getting degree average\n",
      "       Getting edge count\n",
      "       Getting weight average\n",
      "       Getting edge weight histogram\n",
      "       Getting vertex count\n",
      "       Getting density\n",
      "       Getting clustering coefficient\n",
      "       Getting similarity year before\n",
      "   Analysing 2010-1 to 2018-10 network\n",
      "       Getting degree histogram\n",
      "       Getting degree average\n",
      "       Getting edge count\n",
      "       Getting weight average\n",
      "       Getting edge weight histogram\n",
      "       Getting vertex count\n",
      "       Getting density\n",
      "       Getting clustering coefficient\n",
      "       Getting similarity year before\n",
      "   Analysing 2010-1 to 2018-11 network\n",
      "       Getting degree histogram\n",
      "       Getting degree average\n",
      "       Getting edge count\n",
      "       Getting weight average\n",
      "       Getting edge weight histogram\n",
      "       Getting vertex count\n",
      "       Getting density\n",
      "       Getting clustering coefficient\n",
      "       Getting similarity year before\n",
      "   Analysing 2010-1 to 2018-12 network\n"
     ]
    }
   ],
   "source": [
    "coauthorship_analysis = analyse_networks(coauthorship_networks, output_path + 'gt/co-authorship-json')"
   ]
  },
  {
   "cell_type": "code",
   "execution_count": 18,
   "metadata": {
    "scrolled": false
   },
   "outputs": [
    {
     "data": {
      "image/png": "[encoded data removed]",
      "text/plain": [
       "<Figure size 1440x1280 with 1 Axes>"
      ]
     },
     "metadata": {},
     "output_type": "display_data"
    }
   ],
   "source": [
    "dates = coauthorship_analysis.keys()\n",
    "values = [analysis['clustering_coefficient'][0] for analysis in coauthorship_analysis.values()]\n",
    "plt.figure(figsize=(18, 16), dpi= 80, facecolor='w', edgecolor='k')\n",
    "plt.plot(dates, values)\n",
    "plt.xticks(list(dates), [date.split(' to ')[1] for date in dates], rotation='vertical')\n",
    "plt.show()"
   ]
  },
  {
   "cell_type": "code",
   "execution_count": 14,
   "metadata": {},
   "outputs": [
    {
     "data": {
      "image/png": "[encoded data removed]",
      "text/plain": [
       "<Figure size 1440x1280 with 1 Axes>"
      ]
     },
     "metadata": {},
     "output_type": "display_data"
    }
   ],
   "source": [
    "dates = coauthorship_analysis.keys()\n",
    "values = [analysis['density'] for analysis in coauthorship_analysis.values()]\n",
    "plt.figure(figsize=(18, 16), dpi= 80, facecolor='w', edgecolor='k')\n",
    "plt.plot(dates, values)\n",
    "plt.xticks(list(dates), [date.split(' to ')[1] for date in dates], rotation='vertical')\n",
    "plt.show()"
   ]
  },
  {
   "cell_type": "code",
   "execution_count": 15,
   "metadata": {},
   "outputs": [
    {
     "data": {
      "image/png": "[encoded data removed]",
      "text/plain": [
       "<Figure size 1440x1280 with 1 Axes>"
      ]
     },
     "metadata": {},
     "output_type": "display_data"
    }
   ],
   "source": [
    "dates = list(coauthorship_analysis.keys())[1:]\n",
    "values = [analysis['similarity_year_before'] for analysis in list(coauthorship_analysis.values())[1:]]\n",
    "plt.figure(figsize=(18, 16), dpi= 80, facecolor='w', edgecolor='k')\n",
    "plt.plot(dates, values)\n",
    "plt.xticks(list(dates), [date.split(' to ')[1] for date in dates], rotation='vertical')\n",
    "plt.show()"
   ]
  },
  {
   "cell_type": "code",
   "execution_count": 29,
   "metadata": {},
   "outputs": [
    {
     "data": {
      "image/png": "[encoded data removed]",
      "text/plain": [
       "<IPython.core.display.Image object>"
      ]
     },
     "metadata": {},
     "output_type": "display_data"
    },
    {
     "data": {
      "text/plain": [
       "<PropertyMap object with key type 'Vertex' and value type 'vector<double>', for Graph 0x7f0d4dc17f98, at 0x7f0d2ff93a90>"
      ]
     },
     "execution_count": 29,
     "metadata": {},
     "output_type": "execute_result"
    }
   ],
   "source": [
    "graph_draw(coauthorship_networks['2010-1 to 2017-12'])"
   ]
  },
  {
   "cell_type": "markdown",
   "metadata": {},
   "source": [
    "### Generación Red de Co-citación"
   ]
  },
  {
   "cell_type": "code",
   "execution_count": 7,
   "metadata": {},
   "outputs": [
    {
     "name": "stdout",
     "output_type": "stream",
     "text": [
      "   Generating network for range 2010-1 to 2010-1\n",
      "   Generating network for range 2010-1 to 2010-2\n",
      "   Generating network for range 2010-1 to 2010-3\n",
      "   Generating network for range 2010-1 to 2010-4\n",
      "   Generating network for range 2010-1 to 2010-5\n",
      "   Generating network for range 2010-1 to 2010-6\n",
      "   Generating network for range 2010-1 to 2010-7\n",
      "   Generating network for range 2010-1 to 2010-8\n",
      "   Generating network for range 2010-1 to 2010-9\n",
      "   Generating network for range 2010-1 to 2010-10\n",
      "   Generating network for range 2010-1 to 2010-11\n",
      "   Generating network for range 2010-1 to 2010-12\n",
      "   Generating network for range 2010-1 to 2011-1\n",
      "   Generating network for range 2010-1 to 2011-2\n",
      "   Generating network for range 2010-1 to 2011-3\n",
      "   Generating network for range 2010-1 to 2011-4\n",
      "   Generating network for range 2010-1 to 2011-5\n",
      "   Generating network for range 2010-1 to 2011-6\n",
      "   Generating network for range 2010-1 to 2011-7\n",
      "   Generating network for range 2010-1 to 2011-8\n",
      "   Generating network for range 2010-1 to 2011-9\n",
      "   Generating network for range 2010-1 to 2011-10\n",
      "   Generating network for range 2010-1 to 2011-11\n",
      "   Generating network for range 2010-1 to 2011-12\n",
      "   Generating network for range 2010-1 to 2012-1\n",
      "   Generating network for range 2010-1 to 2012-2\n",
      "   Generating network for range 2010-1 to 2012-3\n",
      "   Generating network for range 2010-1 to 2012-4\n",
      "   Generating network for range 2010-1 to 2012-5\n",
      "   Generating network for range 2010-1 to 2012-6\n",
      "   Generating network for range 2010-1 to 2012-7\n",
      "   Generating network for range 2010-1 to 2012-8\n",
      "   Generating network for range 2010-1 to 2012-9\n",
      "   Generating network for range 2010-1 to 2012-10\n",
      "   Generating network for range 2010-1 to 2012-11\n",
      "   Generating network for range 2010-1 to 2012-12\n",
      "   Generating network for range 2010-1 to 2013-1\n",
      "   Generating network for range 2010-1 to 2013-2\n",
      "   Generating network for range 2010-1 to 2013-3\n",
      "   Generating network for range 2010-1 to 2013-4\n",
      "   Generating network for range 2010-1 to 2013-5\n",
      "   Generating network for range 2010-1 to 2013-6\n",
      "   Generating network for range 2010-1 to 2013-7\n",
      "   Generating network for range 2010-1 to 2013-8\n",
      "   Generating network for range 2010-1 to 2013-9\n",
      "   Generating network for range 2010-1 to 2013-10\n",
      "   Generating network for range 2010-1 to 2013-11\n",
      "   Generating network for range 2010-1 to 2013-12\n",
      "   Generating network for range 2010-1 to 2014-1\n",
      "   Generating network for range 2010-1 to 2014-2\n",
      "   Generating network for range 2010-1 to 2014-3\n",
      "   Generating network for range 2010-1 to 2014-4\n",
      "   Generating network for range 2010-1 to 2014-5\n",
      "   Generating network for range 2010-1 to 2014-6\n",
      "   Generating network for range 2010-1 to 2014-7\n",
      "   Generating network for range 2010-1 to 2014-8\n",
      "   Generating network for range 2010-1 to 2014-9\n",
      "   Generating network for range 2010-1 to 2014-10\n",
      "   Generating network for range 2010-1 to 2014-11\n",
      "   Generating network for range 2010-1 to 2014-12\n",
      "   Generating network for range 2010-1 to 2015-1\n",
      "   Generating network for range 2010-1 to 2015-2\n",
      "   Generating network for range 2010-1 to 2015-3\n",
      "   Generating network for range 2010-1 to 2015-4\n",
      "   Generating network for range 2010-1 to 2015-5\n",
      "   Generating network for range 2010-1 to 2015-6\n",
      "   Generating network for range 2010-1 to 2015-7\n",
      "   Generating network for range 2010-1 to 2015-8\n",
      "   Generating network for range 2010-1 to 2015-9\n",
      "   Generating network for range 2010-1 to 2015-10\n",
      "   Generating network for range 2010-1 to 2015-11\n",
      "   Generating network for range 2010-1 to 2015-12\n",
      "   Generating network for range 2010-1 to 2016-1\n",
      "   Generating network for range 2010-1 to 2016-2\n",
      "   Generating network for range 2010-1 to 2016-3\n",
      "   Generating network for range 2010-1 to 2016-4\n",
      "   Generating network for range 2010-1 to 2016-5\n",
      "   Generating network for range 2010-1 to 2016-6\n",
      "   Generating network for range 2010-1 to 2016-7\n",
      "   Generating network for range 2010-1 to 2016-8\n",
      "   Generating network for range 2010-1 to 2016-9\n",
      "   Generating network for range 2010-1 to 2016-10\n",
      "   Generating network for range 2010-1 to 2016-11\n",
      "   Generating network for range 2010-1 to 2016-12\n",
      "   Generating network for range 2010-1 to 2017-1\n",
      "   Generating network for range 2010-1 to 2017-2\n",
      "   Generating network for range 2010-1 to 2017-3\n",
      "   Generating network for range 2010-1 to 2017-4\n",
      "   Generating network for range 2010-1 to 2017-5\n",
      "   Generating network for range 2010-1 to 2017-6\n",
      "   Generating network for range 2010-1 to 2017-7\n",
      "   Generating network for range 2010-1 to 2017-8\n",
      "   Generating network for range 2010-1 to 2017-9\n",
      "   Generating network for range 2010-1 to 2017-10\n",
      "   Generating network for range 2010-1 to 2017-11\n",
      "   Generating network for range 2010-1 to 2017-12\n"
     ]
    }
   ],
   "source": [
    "co_citation_networks = get_co_citation_network_incremental('', 'zika', 2010, 2018, output_path=output_path + 'gt/',\n",
    "                                            mongo_config=mongo_config, save=True, use_cache=True)"
   ]
  },
  {
   "cell_type": "code",
   "execution_count": 8,
   "metadata": {},
   "outputs": [
    {
     "name": "stdout",
     "output_type": "stream",
     "text": [
      "       Getting degree histogram\n",
      "       Getting degree average\n",
      "       Getting edge count\n",
      "       Getting weight average\n",
      "       Getting edge weight histogram\n",
      "       Getting vertex count\n",
      "       Getting density\n",
      "       Getting clustering coefficient\n",
      "       Getting similarity year before\n",
      "   Analysing 2010-1 to 2010-7 network\n",
      "       Getting degree histogram\n",
      "       Getting degree average\n",
      "       Getting edge count\n",
      "       Getting weight average\n",
      "       Getting edge weight histogram\n",
      "       Getting vertex count\n",
      "       Getting density\n",
      "       Getting clustering coefficient\n",
      "       Getting similarity year before\n",
      "   Analysing 2010-1 to 2010-8 network\n",
      "       Getting degree histogram\n",
      "       Getting degree average\n",
      "       Getting edge count\n",
      "       Getting weight average\n",
      "       Getting edge weight histogram\n",
      "       Getting vertex count\n",
      "       Getting density\n",
      "       Getting clustering coefficient\n",
      "       Getting similarity year before\n",
      "   Analysing 2010-1 to 2010-9 network\n",
      "       Getting degree histogram\n",
      "       Getting degree average\n",
      "       Getting edge count\n",
      "       Getting weight average\n",
      "       Getting edge weight histogram\n",
      "       Getting vertex count\n",
      "       Getting density\n",
      "       Getting clustering coefficient\n",
      "       Getting similarity year before\n",
      "   Analysing 2010-1 to 2010-10 network\n",
      "       Getting degree histogram\n",
      "       Getting degree average\n",
      "       Getting edge count\n",
      "       Getting weight average\n",
      "       Getting edge weight histogram\n",
      "       Getting vertex count\n",
      "       Getting density\n",
      "       Getting clustering coefficient\n",
      "       Getting similarity year before\n",
      "   Analysing 2010-1 to 2010-11 network\n",
      "       Getting degree histogram\n",
      "       Getting degree average\n",
      "       Getting edge count\n",
      "       Getting weight average\n",
      "       Getting edge weight histogram\n",
      "       Getting vertex count\n",
      "       Getting density\n",
      "       Getting clustering coefficient\n",
      "       Getting similarity year before\n",
      "   Analysing 2010-1 to 2010-12 network\n",
      "       Getting degree histogram\n",
      "       Getting degree average\n",
      "       Getting edge count\n",
      "       Getting weight average\n",
      "       Getting edge weight histogram\n",
      "       Getting vertex count\n",
      "       Getting density\n",
      "       Getting clustering coefficient\n",
      "       Getting similarity year before\n",
      "   Analysing 2010-1 to 2011-1 network\n",
      "       Getting degree histogram\n",
      "       Getting degree average\n",
      "       Getting edge count\n",
      "       Getting weight average\n",
      "       Getting edge weight histogram\n",
      "       Getting vertex count\n",
      "       Getting density\n",
      "       Getting clustering coefficient\n",
      "       Getting similarity year before\n",
      "   Analysing 2010-1 to 2011-2 network\n",
      "       Getting degree histogram\n",
      "       Getting degree average\n",
      "       Getting edge count\n",
      "       Getting weight average\n",
      "       Getting edge weight histogram\n",
      "       Getting vertex count\n",
      "       Getting density\n",
      "       Getting clustering coefficient\n",
      "       Getting similarity year before\n",
      "   Analysing 2010-1 to 2011-3 network\n",
      "       Getting degree histogram\n",
      "       Getting degree average\n",
      "       Getting edge count\n",
      "       Getting weight average\n",
      "       Getting edge weight histogram\n",
      "       Getting vertex count\n",
      "       Getting density\n",
      "       Getting clustering coefficient\n",
      "       Getting similarity year before\n",
      "   Analysing 2010-1 to 2011-4 network\n",
      "       Getting degree histogram\n",
      "       Getting degree average\n",
      "       Getting edge count\n",
      "       Getting weight average\n",
      "       Getting edge weight histogram\n",
      "       Getting vertex count\n",
      "       Getting density\n",
      "       Getting clustering coefficient\n",
      "       Getting similarity year before\n",
      "   Analysing 2010-1 to 2011-5 network\n",
      "       Getting degree histogram\n",
      "       Getting degree average\n",
      "       Getting edge count\n",
      "       Getting weight average\n",
      "       Getting edge weight histogram\n",
      "       Getting vertex count\n",
      "       Getting density\n",
      "       Getting clustering coefficient\n",
      "       Getting similarity year before\n",
      "   Analysing 2010-1 to 2011-6 network\n",
      "       Getting degree histogram\n",
      "       Getting degree average\n",
      "       Getting edge count\n",
      "       Getting weight average\n",
      "       Getting edge weight histogram\n",
      "       Getting vertex count\n",
      "       Getting density\n",
      "       Getting clustering coefficient\n",
      "       Getting similarity year before\n",
      "   Analysing 2010-1 to 2011-7 network\n",
      "       Getting degree histogram\n",
      "       Getting degree average\n",
      "       Getting edge count\n",
      "       Getting weight average\n",
      "       Getting edge weight histogram\n",
      "       Getting vertex count\n",
      "       Getting density\n",
      "       Getting clustering coefficient\n",
      "       Getting similarity year before\n",
      "   Analysing 2010-1 to 2011-8 network\n",
      "       Getting degree histogram\n",
      "       Getting degree average\n",
      "       Getting edge count\n",
      "       Getting weight average\n",
      "       Getting edge weight histogram\n",
      "       Getting vertex count\n",
      "       Getting density\n",
      "       Getting clustering coefficient\n",
      "       Getting similarity year before\n",
      "   Analysing 2010-1 to 2011-9 network\n",
      "       Getting degree histogram\n",
      "       Getting degree average\n",
      "       Getting edge count\n",
      "       Getting weight average\n",
      "       Getting edge weight histogram\n",
      "       Getting vertex count\n",
      "       Getting density\n",
      "       Getting clustering coefficient\n",
      "       Getting similarity year before\n",
      "   Analysing 2010-1 to 2011-10 network\n",
      "       Getting degree histogram\n",
      "       Getting degree average\n",
      "       Getting edge count\n",
      "       Getting weight average\n",
      "       Getting edge weight histogram\n",
      "       Getting vertex count\n",
      "       Getting density\n",
      "       Getting clustering coefficient\n",
      "       Getting similarity year before\n",
      "   Analysing 2010-1 to 2011-11 network\n",
      "       Getting degree histogram\n",
      "       Getting degree average\n",
      "       Getting edge count\n",
      "       Getting weight average\n",
      "       Getting edge weight histogram\n",
      "       Getting vertex count\n",
      "       Getting density\n",
      "       Getting clustering coefficient\n",
      "       Getting similarity year before\n",
      "   Analysing 2010-1 to 2011-12 network\n",
      "       Getting degree histogram\n",
      "       Getting degree average\n",
      "       Getting edge count\n",
      "       Getting weight average\n",
      "       Getting edge weight histogram\n",
      "       Getting vertex count\n",
      "       Getting density\n",
      "       Getting clustering coefficient\n",
      "       Getting similarity year before\n",
      "   Analysing 2010-1 to 2012-1 network\n",
      "       Getting degree histogram\n",
      "       Getting degree average\n",
      "       Getting edge count\n",
      "       Getting weight average\n",
      "       Getting edge weight histogram\n",
      "       Getting vertex count\n",
      "       Getting density\n",
      "       Getting clustering coefficient\n",
      "       Getting similarity year before\n",
      "   Analysing 2010-1 to 2012-2 network\n",
      "       Getting degree histogram\n",
      "       Getting degree average\n",
      "       Getting edge count\n",
      "       Getting weight average\n",
      "       Getting edge weight histogram\n",
      "       Getting vertex count\n",
      "       Getting density\n",
      "       Getting clustering coefficient\n",
      "       Getting similarity year before\n",
      "   Analysing 2010-1 to 2012-3 network\n",
      "       Getting degree histogram\n",
      "       Getting degree average\n",
      "       Getting edge count\n",
      "       Getting weight average\n",
      "       Getting edge weight histogram\n",
      "       Getting vertex count\n",
      "       Getting density\n",
      "       Getting clustering coefficient\n",
      "       Getting similarity year before\n",
      "   Analysing 2010-1 to 2012-4 network\n",
      "       Getting degree histogram\n",
      "       Getting degree average\n",
      "       Getting edge count\n",
      "       Getting weight average\n",
      "       Getting edge weight histogram\n",
      "       Getting vertex count\n",
      "       Getting density\n",
      "       Getting clustering coefficient\n",
      "       Getting similarity year before\n",
      "   Analysing 2010-1 to 2012-5 network\n",
      "       Getting degree histogram\n",
      "       Getting degree average\n",
      "       Getting edge count\n",
      "       Getting weight average\n",
      "       Getting edge weight histogram\n",
      "       Getting vertex count\n",
      "       Getting density\n",
      "       Getting clustering coefficient\n",
      "       Getting similarity year before\n",
      "   Analysing 2010-1 to 2012-6 network\n",
      "       Getting degree histogram\n",
      "       Getting degree average\n",
      "       Getting edge count\n",
      "       Getting weight average\n",
      "       Getting edge weight histogram\n",
      "       Getting vertex count\n",
      "       Getting density\n",
      "       Getting clustering coefficient\n",
      "       Getting similarity year before\n",
      "   Analysing 2010-1 to 2012-7 network\n",
      "       Getting degree histogram\n",
      "       Getting degree average\n",
      "       Getting edge count\n",
      "       Getting weight average\n",
      "       Getting edge weight histogram\n",
      "       Getting vertex count\n",
      "       Getting density\n"
     ]
    },
    {
     "name": "stdout",
     "output_type": "stream",
     "text": [
      "       Getting clustering coefficient\n",
      "       Getting similarity year before\n",
      "   Analysing 2010-1 to 2012-8 network\n",
      "       Getting degree histogram\n",
      "       Getting degree average\n",
      "       Getting edge count\n",
      "       Getting weight average\n",
      "       Getting edge weight histogram\n",
      "       Getting vertex count\n",
      "       Getting density\n",
      "       Getting clustering coefficient\n",
      "       Getting similarity year before\n",
      "   Analysing 2010-1 to 2012-9 network\n",
      "       Getting degree histogram\n",
      "       Getting degree average\n",
      "       Getting edge count\n",
      "       Getting weight average\n",
      "       Getting edge weight histogram\n",
      "       Getting vertex count\n",
      "       Getting density\n",
      "       Getting clustering coefficient\n",
      "       Getting similarity year before\n",
      "   Analysing 2010-1 to 2012-10 network\n",
      "       Getting degree histogram\n",
      "       Getting degree average\n",
      "       Getting edge count\n",
      "       Getting weight average\n",
      "       Getting edge weight histogram\n",
      "       Getting vertex count\n",
      "       Getting density\n",
      "       Getting clustering coefficient\n",
      "       Getting similarity year before\n",
      "   Analysing 2010-1 to 2012-11 network\n",
      "       Getting degree histogram\n",
      "       Getting degree average\n",
      "       Getting edge count\n",
      "       Getting weight average\n",
      "       Getting edge weight histogram\n",
      "       Getting vertex count\n",
      "       Getting density\n",
      "       Getting clustering coefficient\n",
      "       Getting similarity year before\n",
      "   Analysing 2010-1 to 2012-12 network\n",
      "       Getting degree histogram\n",
      "       Getting degree average\n",
      "       Getting edge count\n",
      "       Getting weight average\n",
      "       Getting edge weight histogram\n",
      "       Getting vertex count\n",
      "       Getting density\n",
      "       Getting clustering coefficient\n",
      "       Getting similarity year before\n",
      "   Analysing 2010-1 to 2013-1 network\n",
      "       Getting degree histogram\n",
      "       Getting degree average\n",
      "       Getting edge count\n",
      "       Getting weight average\n",
      "       Getting edge weight histogram\n",
      "       Getting vertex count\n",
      "       Getting density\n",
      "       Getting clustering coefficient\n",
      "       Getting similarity year before\n",
      "   Analysing 2010-1 to 2013-2 network\n",
      "       Getting degree histogram\n",
      "       Getting degree average\n",
      "       Getting edge count\n",
      "       Getting weight average\n",
      "       Getting edge weight histogram\n",
      "       Getting vertex count\n",
      "       Getting density\n",
      "       Getting clustering coefficient\n",
      "       Getting similarity year before\n",
      "   Analysing 2010-1 to 2013-3 network\n",
      "       Getting degree histogram\n",
      "       Getting degree average\n",
      "       Getting edge count\n",
      "       Getting weight average\n",
      "       Getting edge weight histogram\n",
      "       Getting vertex count\n",
      "       Getting density\n",
      "       Getting clustering coefficient\n",
      "       Getting similarity year before\n",
      "   Analysing 2010-1 to 2013-4 network\n",
      "       Getting degree histogram\n",
      "       Getting degree average\n",
      "       Getting edge count\n",
      "       Getting weight average\n",
      "       Getting edge weight histogram\n",
      "       Getting vertex count\n",
      "       Getting density\n",
      "       Getting clustering coefficient\n",
      "       Getting similarity year before\n",
      "   Analysing 2010-1 to 2013-5 network\n",
      "       Getting degree histogram\n",
      "       Getting degree average\n",
      "       Getting edge count\n",
      "       Getting weight average\n",
      "       Getting edge weight histogram\n",
      "       Getting vertex count\n",
      "       Getting density\n",
      "       Getting clustering coefficient\n",
      "       Getting similarity year before\n",
      "   Analysing 2010-1 to 2013-6 network\n",
      "       Getting degree histogram\n",
      "       Getting degree average\n",
      "       Getting edge count\n",
      "       Getting weight average\n",
      "       Getting edge weight histogram\n",
      "       Getting vertex count\n",
      "       Getting density\n",
      "       Getting clustering coefficient\n",
      "       Getting similarity year before\n",
      "   Analysing 2010-1 to 2013-7 network\n",
      "       Getting degree histogram\n",
      "       Getting degree average\n",
      "       Getting edge count\n",
      "       Getting weight average\n",
      "       Getting edge weight histogram\n",
      "       Getting vertex count\n",
      "       Getting density\n",
      "       Getting clustering coefficient\n",
      "       Getting similarity year before\n",
      "   Analysing 2010-1 to 2013-8 network\n",
      "       Getting degree histogram\n",
      "       Getting degree average\n",
      "       Getting edge count\n",
      "       Getting weight average\n",
      "       Getting edge weight histogram\n",
      "       Getting vertex count\n",
      "       Getting density\n",
      "       Getting clustering coefficient\n",
      "       Getting similarity year before\n",
      "   Analysing 2010-1 to 2013-9 network\n",
      "       Getting degree histogram\n",
      "       Getting degree average\n",
      "       Getting edge count\n",
      "       Getting weight average\n",
      "       Getting edge weight histogram\n",
      "       Getting vertex count\n",
      "       Getting density\n",
      "       Getting clustering coefficient\n",
      "       Getting similarity year before\n",
      "   Analysing 2010-1 to 2013-10 network\n",
      "       Getting degree histogram\n",
      "       Getting degree average\n",
      "       Getting edge count\n",
      "       Getting weight average\n",
      "       Getting edge weight histogram\n",
      "       Getting vertex count\n",
      "       Getting density\n",
      "       Getting clustering coefficient\n",
      "       Getting similarity year before\n",
      "   Analysing 2010-1 to 2013-11 network\n",
      "       Getting degree histogram\n",
      "       Getting degree average\n",
      "       Getting edge count\n",
      "       Getting weight average\n",
      "       Getting edge weight histogram\n",
      "       Getting vertex count\n",
      "       Getting density\n",
      "       Getting clustering coefficient\n",
      "       Getting similarity year before\n",
      "   Analysing 2010-1 to 2013-12 network\n",
      "       Getting degree histogram\n",
      "       Getting degree average\n",
      "       Getting edge count\n",
      "       Getting weight average\n",
      "       Getting edge weight histogram\n",
      "       Getting vertex count\n",
      "       Getting density\n",
      "       Getting clustering coefficient\n",
      "       Getting similarity year before\n",
      "   Analysing 2010-1 to 2014-1 network\n",
      "       Getting degree histogram\n",
      "       Getting degree average\n",
      "       Getting edge count\n",
      "       Getting weight average\n",
      "       Getting edge weight histogram\n",
      "       Getting vertex count\n",
      "       Getting density\n",
      "       Getting clustering coefficient\n",
      "       Getting similarity year before\n",
      "   Analysing 2010-1 to 2014-2 network\n",
      "       Getting degree histogram\n",
      "       Getting degree average\n",
      "       Getting edge count\n",
      "       Getting weight average\n",
      "       Getting edge weight histogram\n",
      "       Getting vertex count\n",
      "       Getting density\n",
      "       Getting clustering coefficient\n",
      "       Getting similarity year before\n",
      "   Analysing 2010-1 to 2014-3 network\n",
      "       Getting degree histogram\n",
      "       Getting degree average\n",
      "       Getting edge count\n",
      "       Getting weight average\n",
      "       Getting edge weight histogram\n",
      "       Getting vertex count\n",
      "       Getting density\n",
      "       Getting clustering coefficient\n",
      "       Getting similarity year before\n",
      "   Analysing 2010-1 to 2014-4 network\n",
      "       Getting degree histogram\n",
      "       Getting degree average\n",
      "       Getting edge count\n",
      "       Getting weight average\n",
      "       Getting edge weight histogram\n",
      "       Getting vertex count\n",
      "       Getting density\n",
      "       Getting clustering coefficient\n",
      "       Getting similarity year before\n",
      "   Analysing 2010-1 to 2014-5 network\n",
      "       Getting degree histogram\n",
      "       Getting degree average\n",
      "       Getting edge count\n",
      "       Getting weight average\n",
      "       Getting edge weight histogram\n",
      "       Getting vertex count\n",
      "       Getting density\n",
      "       Getting clustering coefficient\n",
      "       Getting similarity year before\n",
      "   Analysing 2010-1 to 2014-6 network\n",
      "       Getting degree histogram\n",
      "       Getting degree average\n",
      "       Getting edge count\n",
      "       Getting weight average\n",
      "       Getting edge weight histogram\n",
      "       Getting vertex count\n",
      "       Getting density\n",
      "       Getting clustering coefficient\n",
      "       Getting similarity year before\n",
      "   Analysing 2010-1 to 2014-7 network\n",
      "       Getting degree histogram\n",
      "       Getting degree average\n",
      "       Getting edge count\n",
      "       Getting weight average\n",
      "       Getting edge weight histogram\n",
      "       Getting vertex count\n",
      "       Getting density\n",
      "       Getting clustering coefficient\n",
      "       Getting similarity year before\n",
      "   Analysing 2010-1 to 2014-8 network\n",
      "       Getting degree histogram\n",
      "       Getting degree average\n",
      "       Getting edge count\n",
      "       Getting weight average\n",
      "       Getting edge weight histogram\n",
      "       Getting vertex count\n",
      "       Getting density\n",
      "       Getting clustering coefficient\n",
      "       Getting similarity year before\n",
      "   Analysing 2010-1 to 2014-9 network\n",
      "       Getting degree histogram\n",
      "       Getting degree average\n",
      "       Getting edge count\n"
     ]
    },
    {
     "name": "stdout",
     "output_type": "stream",
     "text": [
      "       Getting weight average\n",
      "       Getting edge weight histogram\n",
      "       Getting vertex count\n",
      "       Getting density\n",
      "       Getting clustering coefficient\n",
      "       Getting similarity year before\n",
      "   Analysing 2010-1 to 2014-10 network\n",
      "       Getting degree histogram\n",
      "       Getting degree average\n",
      "       Getting edge count\n",
      "       Getting weight average\n",
      "       Getting edge weight histogram\n",
      "       Getting vertex count\n",
      "       Getting density\n",
      "       Getting clustering coefficient\n",
      "       Getting similarity year before\n",
      "   Analysing 2010-1 to 2014-11 network\n",
      "       Getting degree histogram\n",
      "       Getting degree average\n",
      "       Getting edge count\n",
      "       Getting weight average\n",
      "       Getting edge weight histogram\n",
      "       Getting vertex count\n",
      "       Getting density\n",
      "       Getting clustering coefficient\n",
      "       Getting similarity year before\n",
      "   Analysing 2010-1 to 2014-12 network\n",
      "       Getting degree histogram\n",
      "       Getting degree average\n",
      "       Getting edge count\n",
      "       Getting weight average\n",
      "       Getting edge weight histogram\n",
      "       Getting vertex count\n",
      "       Getting density\n",
      "       Getting clustering coefficient\n",
      "       Getting similarity year before\n",
      "   Analysing 2010-1 to 2015-1 network\n",
      "       Getting degree histogram\n",
      "       Getting degree average\n",
      "       Getting edge count\n",
      "       Getting weight average\n",
      "       Getting edge weight histogram\n",
      "       Getting vertex count\n",
      "       Getting density\n",
      "       Getting clustering coefficient\n",
      "       Getting similarity year before\n",
      "   Analysing 2010-1 to 2015-2 network\n",
      "       Getting degree histogram\n",
      "       Getting degree average\n",
      "       Getting edge count\n",
      "       Getting weight average\n",
      "       Getting edge weight histogram\n",
      "       Getting vertex count\n",
      "       Getting density\n",
      "       Getting clustering coefficient\n",
      "       Getting similarity year before\n",
      "   Analysing 2010-1 to 2015-3 network\n",
      "       Getting degree histogram\n",
      "       Getting degree average\n",
      "       Getting edge count\n",
      "       Getting weight average\n",
      "       Getting edge weight histogram\n",
      "       Getting vertex count\n",
      "       Getting density\n",
      "       Getting clustering coefficient\n",
      "       Getting similarity year before\n",
      "   Analysing 2010-1 to 2015-4 network\n",
      "       Getting degree histogram\n",
      "       Getting degree average\n",
      "       Getting edge count\n",
      "       Getting weight average\n",
      "       Getting edge weight histogram\n",
      "       Getting vertex count\n",
      "       Getting density\n",
      "       Getting clustering coefficient\n",
      "       Getting similarity year before\n",
      "   Analysing 2010-1 to 2015-5 network\n",
      "       Getting degree histogram\n",
      "       Getting degree average\n",
      "       Getting edge count\n",
      "       Getting weight average\n",
      "       Getting edge weight histogram\n",
      "       Getting vertex count\n",
      "       Getting density\n",
      "       Getting clustering coefficient\n",
      "       Getting similarity year before\n",
      "   Analysing 2010-1 to 2015-6 network\n",
      "       Getting degree histogram\n",
      "       Getting degree average\n",
      "       Getting edge count\n",
      "       Getting weight average\n",
      "       Getting edge weight histogram\n",
      "       Getting vertex count\n",
      "       Getting density\n",
      "       Getting clustering coefficient\n",
      "       Getting similarity year before\n",
      "   Analysing 2010-1 to 2015-7 network\n",
      "       Getting degree histogram\n",
      "       Getting degree average\n",
      "       Getting edge count\n",
      "       Getting weight average\n",
      "       Getting edge weight histogram\n",
      "       Getting vertex count\n",
      "       Getting density\n",
      "       Getting clustering coefficient\n",
      "       Getting similarity year before\n",
      "   Analysing 2010-1 to 2015-8 network\n",
      "       Getting degree histogram\n",
      "       Getting degree average\n",
      "       Getting edge count\n",
      "       Getting weight average\n",
      "       Getting edge weight histogram\n",
      "       Getting vertex count\n",
      "       Getting density\n",
      "       Getting clustering coefficient\n",
      "       Getting similarity year before\n",
      "   Analysing 2010-1 to 2015-9 network\n",
      "       Getting degree histogram\n",
      "       Getting degree average\n",
      "       Getting edge count\n",
      "       Getting weight average\n",
      "       Getting edge weight histogram\n",
      "       Getting vertex count\n",
      "       Getting density\n",
      "       Getting clustering coefficient\n",
      "       Getting similarity year before\n",
      "   Analysing 2010-1 to 2015-10 network\n",
      "       Getting degree histogram\n",
      "       Getting degree average\n",
      "       Getting edge count\n",
      "       Getting weight average\n",
      "       Getting edge weight histogram\n",
      "       Getting vertex count\n",
      "       Getting density\n",
      "       Getting clustering coefficient\n",
      "       Getting similarity year before\n",
      "   Analysing 2010-1 to 2015-11 network\n",
      "       Getting degree histogram\n",
      "       Getting degree average\n",
      "       Getting edge count\n",
      "       Getting weight average\n",
      "       Getting edge weight histogram\n",
      "       Getting vertex count\n",
      "       Getting density\n",
      "       Getting clustering coefficient\n",
      "       Getting similarity year before\n",
      "   Analysing 2010-1 to 2015-12 network\n",
      "       Getting degree histogram\n",
      "       Getting degree average\n",
      "       Getting edge count\n",
      "       Getting weight average\n",
      "       Getting edge weight histogram\n",
      "       Getting vertex count\n",
      "       Getting density\n",
      "       Getting clustering coefficient\n",
      "       Getting similarity year before\n",
      "   Analysing 2010-1 to 2016-1 network\n",
      "       Getting degree histogram\n",
      "       Getting degree average\n",
      "       Getting edge count\n",
      "       Getting weight average\n",
      "       Getting edge weight histogram\n",
      "       Getting vertex count\n",
      "       Getting density\n",
      "       Getting clustering coefficient\n",
      "       Getting similarity year before\n",
      "   Analysing 2010-1 to 2016-2 network\n",
      "       Getting degree histogram\n",
      "       Getting degree average\n",
      "       Getting edge count\n",
      "       Getting weight average\n",
      "       Getting edge weight histogram\n",
      "       Getting vertex count\n",
      "       Getting density\n",
      "       Getting clustering coefficient\n",
      "       Getting similarity year before\n",
      "   Analysing 2010-1 to 2016-3 network\n",
      "       Getting degree histogram\n",
      "       Getting degree average\n",
      "       Getting edge count\n",
      "       Getting weight average\n",
      "       Getting edge weight histogram\n",
      "       Getting vertex count\n",
      "       Getting density\n",
      "       Getting clustering coefficient\n",
      "       Getting similarity year before\n",
      "   Analysing 2010-1 to 2016-4 network\n",
      "       Getting degree histogram\n",
      "       Getting degree average\n",
      "       Getting edge count\n",
      "       Getting weight average\n",
      "       Getting edge weight histogram\n",
      "       Getting vertex count\n",
      "       Getting density\n",
      "       Getting clustering coefficient\n",
      "       Getting similarity year before\n",
      "   Analysing 2010-1 to 2016-5 network\n",
      "       Getting degree histogram\n",
      "       Getting degree average\n",
      "       Getting edge count\n",
      "       Getting weight average\n",
      "       Getting edge weight histogram\n",
      "       Getting vertex count\n",
      "       Getting density\n",
      "       Getting clustering coefficient\n",
      "       Getting similarity year before\n",
      "   Analysing 2010-1 to 2016-6 network\n",
      "       Getting degree histogram\n",
      "       Getting degree average\n",
      "       Getting edge count\n",
      "       Getting weight average\n",
      "       Getting edge weight histogram\n",
      "       Getting vertex count\n",
      "       Getting density\n",
      "       Getting clustering coefficient\n",
      "       Getting similarity year before\n",
      "   Analysing 2010-1 to 2016-7 network\n",
      "       Getting degree histogram\n",
      "       Getting degree average\n",
      "       Getting edge count\n",
      "       Getting weight average\n",
      "       Getting edge weight histogram\n",
      "       Getting vertex count\n",
      "       Getting density\n",
      "       Getting clustering coefficient\n",
      "       Getting similarity year before\n",
      "   Analysing 2010-1 to 2016-8 network\n",
      "       Getting degree histogram\n",
      "       Getting degree average\n",
      "       Getting edge count\n",
      "       Getting weight average\n",
      "       Getting edge weight histogram\n",
      "       Getting vertex count\n",
      "       Getting density\n",
      "       Getting clustering coefficient\n",
      "       Getting similarity year before\n",
      "   Analysing 2010-1 to 2016-9 network\n",
      "       Getting degree histogram\n",
      "       Getting degree average\n",
      "       Getting edge count\n",
      "       Getting weight average\n",
      "       Getting edge weight histogram\n",
      "       Getting vertex count\n",
      "       Getting density\n",
      "       Getting clustering coefficient\n",
      "       Getting similarity year before\n",
      "   Analysing 2010-1 to 2016-10 network\n",
      "       Getting degree histogram\n",
      "       Getting degree average\n",
      "       Getting edge count\n",
      "       Getting weight average\n",
      "       Getting edge weight histogram\n",
      "       Getting vertex count\n",
      "       Getting density\n",
      "       Getting clustering coefficient\n",
      "       Getting similarity year before\n"
     ]
    },
    {
     "name": "stdout",
     "output_type": "stream",
     "text": [
      "   Analysing 2010-1 to 2016-11 network\n",
      "       Getting degree histogram\n",
      "       Getting degree average\n",
      "       Getting edge count\n",
      "       Getting weight average\n",
      "       Getting edge weight histogram\n",
      "       Getting vertex count\n",
      "       Getting density\n",
      "       Getting clustering coefficient\n",
      "       Getting similarity year before\n",
      "   Analysing 2010-1 to 2016-12 network\n",
      "       Getting degree histogram\n",
      "       Getting degree average\n",
      "       Getting edge count\n",
      "       Getting weight average\n",
      "       Getting edge weight histogram\n",
      "       Getting vertex count\n",
      "       Getting density\n",
      "       Getting clustering coefficient\n",
      "       Getting similarity year before\n",
      "   Analysing 2010-1 to 2017-1 network\n",
      "       Getting degree histogram\n",
      "       Getting degree average\n",
      "       Getting edge count\n",
      "       Getting weight average\n",
      "       Getting edge weight histogram\n",
      "       Getting vertex count\n",
      "       Getting density\n",
      "       Getting clustering coefficient\n",
      "       Getting similarity year before\n",
      "   Analysing 2010-1 to 2017-2 network\n",
      "       Getting degree histogram\n",
      "       Getting degree average\n",
      "       Getting edge count\n",
      "       Getting weight average\n",
      "       Getting edge weight histogram\n",
      "       Getting vertex count\n",
      "       Getting density\n",
      "       Getting clustering coefficient\n",
      "       Getting similarity year before\n",
      "   Analysing 2010-1 to 2017-3 network\n",
      "       Getting degree histogram\n",
      "       Getting degree average\n",
      "       Getting edge count\n",
      "       Getting weight average\n",
      "       Getting edge weight histogram\n",
      "       Getting vertex count\n",
      "       Getting density\n",
      "       Getting clustering coefficient\n",
      "       Getting similarity year before\n",
      "   Analysing 2010-1 to 2017-4 network\n",
      "       Getting degree histogram\n",
      "       Getting degree average\n",
      "       Getting edge count\n",
      "       Getting weight average\n",
      "       Getting edge weight histogram\n",
      "       Getting vertex count\n",
      "       Getting density\n",
      "       Getting clustering coefficient\n",
      "       Getting similarity year before\n",
      "   Analysing 2010-1 to 2017-5 network\n",
      "       Getting degree histogram\n",
      "       Getting degree average\n",
      "       Getting edge count\n",
      "       Getting weight average\n",
      "       Getting edge weight histogram\n",
      "       Getting vertex count\n",
      "       Getting density\n",
      "       Getting clustering coefficient\n",
      "       Getting similarity year before\n",
      "   Analysing 2010-1 to 2017-6 network\n",
      "       Getting degree histogram\n",
      "       Getting degree average\n",
      "       Getting edge count\n",
      "       Getting weight average\n",
      "       Getting edge weight histogram\n",
      "       Getting vertex count\n",
      "       Getting density\n",
      "       Getting clustering coefficient\n",
      "       Getting similarity year before\n",
      "   Analysing 2010-1 to 2017-7 network\n",
      "       Getting degree histogram\n",
      "       Getting degree average\n",
      "       Getting edge count\n",
      "       Getting weight average\n",
      "       Getting edge weight histogram\n",
      "       Getting vertex count\n",
      "       Getting density\n",
      "       Getting clustering coefficient\n",
      "       Getting similarity year before\n",
      "   Analysing 2010-1 to 2017-8 network\n",
      "       Getting degree histogram\n",
      "       Getting degree average\n",
      "       Getting edge count\n",
      "       Getting weight average\n",
      "       Getting edge weight histogram\n",
      "       Getting vertex count\n",
      "       Getting density\n",
      "       Getting clustering coefficient\n",
      "       Getting similarity year before\n",
      "   Analysing 2010-1 to 2017-9 network\n",
      "       Getting degree histogram\n",
      "       Getting degree average\n",
      "       Getting edge count\n",
      "       Getting weight average\n",
      "       Getting edge weight histogram\n",
      "       Getting vertex count\n",
      "       Getting density\n",
      "       Getting clustering coefficient\n",
      "       Getting similarity year before\n",
      "   Analysing 2010-1 to 2017-10 network\n",
      "       Getting degree histogram\n",
      "       Getting degree average\n",
      "       Getting edge count\n",
      "       Getting weight average\n",
      "       Getting edge weight histogram\n",
      "       Getting vertex count\n",
      "       Getting density\n",
      "       Getting clustering coefficient\n",
      "       Getting similarity year before\n",
      "   Analysing 2010-1 to 2017-11 network\n",
      "       Getting degree histogram\n",
      "       Getting degree average\n",
      "       Getting edge count\n",
      "       Getting weight average\n",
      "       Getting edge weight histogram\n",
      "       Getting vertex count\n",
      "       Getting density\n",
      "       Getting clustering coefficient\n",
      "       Getting similarity year before\n",
      "   Analysing 2010-1 to 2017-12 network\n"
     ]
    }
   ],
   "source": [
    "co_citation_analysis = analyse_networks(co_citation_networks, output_path + 'gt/co-citation.json')"
   ]
  },
  {
   "cell_type": "code",
   "execution_count": 21,
   "metadata": {},
   "outputs": [
    {
     "data": {
      "image/png": "[encoded data removed]",
      "text/plain": [
       "<Figure size 1440x1280 with 1 Axes>"
      ]
     },
     "metadata": {},
     "output_type": "display_data"
    }
   ],
   "source": [
    "dates = co_citation_analysis.keys()\n",
    "values = [analysis['clustering_coefficient'][0] for analysis in co_citation_analysis.values()]\n",
    "plt.figure(figsize=(18, 16), dpi= 80, facecolor='w', edgecolor='k')\n",
    "plt.plot(dates, values)\n",
    "plt.xticks(list(dates), [date.split(' to ')[1] for date in dates], rotation='vertical')\n",
    "plt.show()"
   ]
  },
  {
   "cell_type": "code",
   "execution_count": 23,
   "metadata": {},
   "outputs": [
    {
     "data": {
      "image/png": "[encoded data removed]",
      "text/plain": [
       "<Figure size 1440x1280 with 1 Axes>"
      ]
     },
     "metadata": {},
     "output_type": "display_data"
    }
   ],
   "source": [
    "dates = co_citation_analysis.keys()\n",
    "values = [analysis['density'] for analysis in co_citation_analysis.values()]\n",
    "plt.figure(figsize=(18, 16), dpi= 80, facecolor='w', edgecolor='k')\n",
    "plt.plot(dates, values)\n",
    "plt.xticks(list(dates), [date.split(' to ')[1] for date in dates], rotation='vertical')\n",
    "plt.show()"
   ]
  },
  {
   "cell_type": "code",
   "execution_count": 28,
   "metadata": {},
   "outputs": [
    {
     "data": {
      "image/png": "[encoded data removed]",
      "text/plain": [
       "<Figure size 1440x1280 with 1 Axes>"
      ]
     },
     "metadata": {},
     "output_type": "display_data"
    }
   ],
   "source": [
    "dates = list(co_citation_analysis.keys())[1:]\n",
    "values = [analysis['similarity_year_before'] for analysis in list(co_citation_analysis.values())[1:]]\n",
    "plt.figure(figsize=(18, 16), dpi= 80, facecolor='w', edgecolor='k')\n",
    "plt.plot(dates, values)\n",
    "plt.xticks(list(dates), [date.split(' to ')[1] for date in dates], rotation='vertical')\n",
    "plt.show()"
   ]
  },
  {
   "cell_type": "code",
   "execution_count": 30,
   "metadata": {},
   "outputs": [
    {
     "data": {
      "image/png": "[encoded data removed]",
      "text/plain": [
       "<IPython.core.display.Image object>"
      ]
     },
     "metadata": {},
     "output_type": "display_data"
    },
    {
     "data": {
      "text/plain": [
       "<PropertyMap object with key type 'Vertex' and value type 'vector<double>', for Graph 0x7f0d4c2a6a90, at 0x7f0d35dfc828>"
      ]
     },
     "execution_count": 30,
     "metadata": {},
     "output_type": "execute_result"
    }
   ],
   "source": [
    "graph_draw(co_citation_networks['2010-1 to 2017-12'])"
   ]
  },
  {
   "cell_type": "markdown",
   "metadata": {},
   "source": [
    "### Generación Red de Co-aparación de las anotaciones"
   ]
  },
  {
   "cell_type": "code",
   "execution_count": null,
   "metadata": {
    "scrolled": false
   },
   "outputs": [],
   "source": [
    "cooccurrence_networks = get_co_occurrence_network_incremental('', 'zika', 2010, 2018, output_path=output_path + 'gt/',\n",
    "                                                              mongo_config=mongo_config, save=True, use_cache=True)"
   ]
  },
  {
   "cell_type": "code",
   "execution_count": null,
   "metadata": {},
   "outputs": [],
   "source": []
  },
  {
   "cell_type": "markdown",
   "metadata": {},
   "source": [
    "## Análisis de ráfaga"
   ]
  },
  {
   "cell_type": "code",
   "execution_count": null,
   "metadata": {},
   "outputs": [],
   "source": []
  },
  {
   "cell_type": "markdown",
   "metadata": {},
   "source": [
    "### Ráfaga de palabras utilizando las anotaciones"
   ]
  },
  {
   "cell_type": "code",
   "execution_count": null,
   "metadata": {},
   "outputs": [],
   "source": []
  },
  {
   "cell_type": "markdown",
   "metadata": {},
   "source": [
    "### Ráfaga de palabras utilizando el texto completo"
   ]
  },
  {
   "cell_type": "code",
   "execution_count": null,
   "metadata": {},
   "outputs": [],
   "source": []
  },
  {
   "cell_type": "markdown",
   "metadata": {},
   "source": [
    "### Ráfaga de palabras utilizando título y abstract"
   ]
  },
  {
   "cell_type": "code",
   "execution_count": null,
   "metadata": {},
   "outputs": [],
   "source": []
  },
  {
   "cell_type": "markdown",
   "metadata": {},
   "source": [
    "### Ráfaga de palabras utilizando palabras clave"
   ]
  },
  {
   "cell_type": "code",
   "execution_count": null,
   "metadata": {},
   "outputs": [],
   "source": []
  },
  {
   "cell_type": "markdown",
   "metadata": {},
   "source": [
    "### Ráfaga de palabras utilizando MESH"
   ]
  },
  {
   "cell_type": "code",
   "execution_count": null,
   "metadata": {},
   "outputs": [],
   "source": []
  },
  {
   "cell_type": "markdown",
   "metadata": {},
   "source": [
    "## Detección de frentes de investigación"
   ]
  },
  {
   "cell_type": "markdown",
   "metadata": {},
   "source": [
    "### Análisis del cambio en los autores"
   ]
  },
  {
   "cell_type": "code",
   "execution_count": null,
   "metadata": {},
   "outputs": [],
   "source": []
  },
  {
   "cell_type": "markdown",
   "metadata": {},
   "source": [
    "### Análisis del cambio en la interdisciplinariedad"
   ]
  },
  {
   "cell_type": "code",
   "execution_count": null,
   "metadata": {},
   "outputs": [],
   "source": []
  },
  {
   "cell_type": "markdown",
   "metadata": {},
   "source": [
    "### Análisis de ráfaga de palabras"
   ]
  },
  {
   "cell_type": "code",
   "execution_count": null,
   "metadata": {},
   "outputs": [],
   "source": []
  }
 ],
 "metadata": {
  "kernelspec": {
   "display_name": "Python 3",
   "language": "python",
   "name": "python3"
  },
  "language_info": {
   "codemirror_mode": {
    "name": "ipython",
    "version": 3
   },
   "file_extension": ".py",
   "mimetype": "text/x-python",
   "name": "python",
   "nbconvert_exporter": "python",
   "pygments_lexer": "ipython3",
   "version": "3.6.5"
  }
 },
 "nbformat": 4,
 "nbformat_minor": 1
}
